{
  "nbformat": 4,
  "nbformat_minor": 0,
  "metadata": {
    "colab": {
      "name": "ConvEnt.ipynb",
      "provenance": [],
      "collapsed_sections": [
        "XCTR69kyKAu1"
      ],
      "toc_visible": true
    },
    "kernelspec": {
      "name": "python3",
      "display_name": "Python 3"
    },
    "accelerator": "GPU",
    "widgets": {
      "application/vnd.jupyter.widget-state+json": {
        "9bd5ec1e7ec24d4e83965737b1e63dbb": {
          "model_module": "@jupyter-widgets/controls",
          "model_name": "HBoxModel",
          "state": {
            "_view_name": "HBoxView",
            "_dom_classes": [],
            "_model_name": "HBoxModel",
            "_view_module": "@jupyter-widgets/controls",
            "_model_module_version": "1.5.0",
            "_view_count": null,
            "_view_module_version": "1.5.0",
            "box_style": "",
            "layout": "IPY_MODEL_b7f5bba99aa94d42ae0353796ca4f90f",
            "_model_module": "@jupyter-widgets/controls",
            "children": [
              "IPY_MODEL_4e4f041a17d6452182172767093fcbf1",
              "IPY_MODEL_bebafabae1ad49c7a7f64bd901b686d7"
            ]
          }
        },
        "b7f5bba99aa94d42ae0353796ca4f90f": {
          "model_module": "@jupyter-widgets/base",
          "model_name": "LayoutModel",
          "state": {
            "_view_name": "LayoutView",
            "grid_template_rows": null,
            "right": null,
            "justify_content": null,
            "_view_module": "@jupyter-widgets/base",
            "overflow": null,
            "_model_module_version": "1.2.0",
            "_view_count": null,
            "flex_flow": null,
            "width": null,
            "min_width": null,
            "border": null,
            "align_items": null,
            "bottom": null,
            "_model_module": "@jupyter-widgets/base",
            "top": null,
            "grid_column": null,
            "overflow_y": null,
            "overflow_x": null,
            "grid_auto_flow": null,
            "grid_area": null,
            "grid_template_columns": null,
            "flex": null,
            "_model_name": "LayoutModel",
            "justify_items": null,
            "grid_row": null,
            "max_height": null,
            "align_content": null,
            "visibility": null,
            "align_self": null,
            "height": null,
            "min_height": null,
            "padding": null,
            "grid_auto_rows": null,
            "grid_gap": null,
            "max_width": null,
            "order": null,
            "_view_module_version": "1.2.0",
            "grid_template_areas": null,
            "object_position": null,
            "object_fit": null,
            "grid_auto_columns": null,
            "margin": null,
            "display": null,
            "left": null
          }
        },
        "4e4f041a17d6452182172767093fcbf1": {
          "model_module": "@jupyter-widgets/controls",
          "model_name": "FloatProgressModel",
          "state": {
            "_view_name": "ProgressView",
            "style": "IPY_MODEL_0300cb16437643f0b71a1698b0ed6565",
            "_dom_classes": [],
            "description": "Downloading: 100%",
            "_model_name": "FloatProgressModel",
            "bar_style": "success",
            "max": 688,
            "_view_module": "@jupyter-widgets/controls",
            "_model_module_version": "1.5.0",
            "value": 688,
            "_view_count": null,
            "_view_module_version": "1.5.0",
            "orientation": "horizontal",
            "min": 0,
            "description_tooltip": null,
            "_model_module": "@jupyter-widgets/controls",
            "layout": "IPY_MODEL_60782abb32114ecbabf93c570d226448"
          }
        },
        "bebafabae1ad49c7a7f64bd901b686d7": {
          "model_module": "@jupyter-widgets/controls",
          "model_name": "HTMLModel",
          "state": {
            "_view_name": "HTMLView",
            "style": "IPY_MODEL_1a9c6decb7924bb4ba51eb910c8fdb86",
            "_dom_classes": [],
            "description": "",
            "_model_name": "HTMLModel",
            "placeholder": "​",
            "_view_module": "@jupyter-widgets/controls",
            "_model_module_version": "1.5.0",
            "value": " 688/688 [00:30&lt;00:00, 22.9B/s]",
            "_view_count": null,
            "_view_module_version": "1.5.0",
            "description_tooltip": null,
            "_model_module": "@jupyter-widgets/controls",
            "layout": "IPY_MODEL_6fbec1b162d247c6bf2271aecc9e3f9f"
          }
        },
        "0300cb16437643f0b71a1698b0ed6565": {
          "model_module": "@jupyter-widgets/controls",
          "model_name": "ProgressStyleModel",
          "state": {
            "_view_name": "StyleView",
            "_model_name": "ProgressStyleModel",
            "description_width": "initial",
            "_view_module": "@jupyter-widgets/base",
            "_model_module_version": "1.5.0",
            "_view_count": null,
            "_view_module_version": "1.2.0",
            "bar_color": null,
            "_model_module": "@jupyter-widgets/controls"
          }
        },
        "60782abb32114ecbabf93c570d226448": {
          "model_module": "@jupyter-widgets/base",
          "model_name": "LayoutModel",
          "state": {
            "_view_name": "LayoutView",
            "grid_template_rows": null,
            "right": null,
            "justify_content": null,
            "_view_module": "@jupyter-widgets/base",
            "overflow": null,
            "_model_module_version": "1.2.0",
            "_view_count": null,
            "flex_flow": null,
            "width": null,
            "min_width": null,
            "border": null,
            "align_items": null,
            "bottom": null,
            "_model_module": "@jupyter-widgets/base",
            "top": null,
            "grid_column": null,
            "overflow_y": null,
            "overflow_x": null,
            "grid_auto_flow": null,
            "grid_area": null,
            "grid_template_columns": null,
            "flex": null,
            "_model_name": "LayoutModel",
            "justify_items": null,
            "grid_row": null,
            "max_height": null,
            "align_content": null,
            "visibility": null,
            "align_self": null,
            "height": null,
            "min_height": null,
            "padding": null,
            "grid_auto_rows": null,
            "grid_gap": null,
            "max_width": null,
            "order": null,
            "_view_module_version": "1.2.0",
            "grid_template_areas": null,
            "object_position": null,
            "object_fit": null,
            "grid_auto_columns": null,
            "margin": null,
            "display": null,
            "left": null
          }
        },
        "1a9c6decb7924bb4ba51eb910c8fdb86": {
          "model_module": "@jupyter-widgets/controls",
          "model_name": "DescriptionStyleModel",
          "state": {
            "_view_name": "StyleView",
            "_model_name": "DescriptionStyleModel",
            "description_width": "",
            "_view_module": "@jupyter-widgets/base",
            "_model_module_version": "1.5.0",
            "_view_count": null,
            "_view_module_version": "1.2.0",
            "_model_module": "@jupyter-widgets/controls"
          }
        },
        "6fbec1b162d247c6bf2271aecc9e3f9f": {
          "model_module": "@jupyter-widgets/base",
          "model_name": "LayoutModel",
          "state": {
            "_view_name": "LayoutView",
            "grid_template_rows": null,
            "right": null,
            "justify_content": null,
            "_view_module": "@jupyter-widgets/base",
            "overflow": null,
            "_model_module_version": "1.2.0",
            "_view_count": null,
            "flex_flow": null,
            "width": null,
            "min_width": null,
            "border": null,
            "align_items": null,
            "bottom": null,
            "_model_module": "@jupyter-widgets/base",
            "top": null,
            "grid_column": null,
            "overflow_y": null,
            "overflow_x": null,
            "grid_auto_flow": null,
            "grid_area": null,
            "grid_template_columns": null,
            "flex": null,
            "_model_name": "LayoutModel",
            "justify_items": null,
            "grid_row": null,
            "max_height": null,
            "align_content": null,
            "visibility": null,
            "align_self": null,
            "height": null,
            "min_height": null,
            "padding": null,
            "grid_auto_rows": null,
            "grid_gap": null,
            "max_width": null,
            "order": null,
            "_view_module_version": "1.2.0",
            "grid_template_areas": null,
            "object_position": null,
            "object_fit": null,
            "grid_auto_columns": null,
            "margin": null,
            "display": null,
            "left": null
          }
        },
        "8fa9f434fe2b462f8ee29e8f96ad5c14": {
          "model_module": "@jupyter-widgets/controls",
          "model_name": "HBoxModel",
          "state": {
            "_view_name": "HBoxView",
            "_dom_classes": [],
            "_model_name": "HBoxModel",
            "_view_module": "@jupyter-widgets/controls",
            "_model_module_version": "1.5.0",
            "_view_count": null,
            "_view_module_version": "1.5.0",
            "box_style": "",
            "layout": "IPY_MODEL_e0867791eed14fc091ff5c5cbd89018f",
            "_model_module": "@jupyter-widgets/controls",
            "children": [
              "IPY_MODEL_354c3568ae664feb8dc2bbb982b7cf4b",
              "IPY_MODEL_23a2ca00c47942508f5c6e0f0b1d0ace"
            ]
          }
        },
        "e0867791eed14fc091ff5c5cbd89018f": {
          "model_module": "@jupyter-widgets/base",
          "model_name": "LayoutModel",
          "state": {
            "_view_name": "LayoutView",
            "grid_template_rows": null,
            "right": null,
            "justify_content": null,
            "_view_module": "@jupyter-widgets/base",
            "overflow": null,
            "_model_module_version": "1.2.0",
            "_view_count": null,
            "flex_flow": null,
            "width": null,
            "min_width": null,
            "border": null,
            "align_items": null,
            "bottom": null,
            "_model_module": "@jupyter-widgets/base",
            "top": null,
            "grid_column": null,
            "overflow_y": null,
            "overflow_x": null,
            "grid_auto_flow": null,
            "grid_area": null,
            "grid_template_columns": null,
            "flex": null,
            "_model_name": "LayoutModel",
            "justify_items": null,
            "grid_row": null,
            "max_height": null,
            "align_content": null,
            "visibility": null,
            "align_self": null,
            "height": null,
            "min_height": null,
            "padding": null,
            "grid_auto_rows": null,
            "grid_gap": null,
            "max_width": null,
            "order": null,
            "_view_module_version": "1.2.0",
            "grid_template_areas": null,
            "object_position": null,
            "object_fit": null,
            "grid_auto_columns": null,
            "margin": null,
            "display": null,
            "left": null
          }
        },
        "354c3568ae664feb8dc2bbb982b7cf4b": {
          "model_module": "@jupyter-widgets/controls",
          "model_name": "FloatProgressModel",
          "state": {
            "_view_name": "ProgressView",
            "style": "IPY_MODEL_1d1a1bedf25c41e0851add704cf1512c",
            "_dom_classes": [],
            "description": "Downloading: 100%",
            "_model_name": "FloatProgressModel",
            "bar_style": "success",
            "max": 898823,
            "_view_module": "@jupyter-widgets/controls",
            "_model_module_version": "1.5.0",
            "value": 898823,
            "_view_count": null,
            "_view_module_version": "1.5.0",
            "orientation": "horizontal",
            "min": 0,
            "description_tooltip": null,
            "_model_module": "@jupyter-widgets/controls",
            "layout": "IPY_MODEL_8639e4a886fb434fb4f8bbf9b36bcde3"
          }
        },
        "23a2ca00c47942508f5c6e0f0b1d0ace": {
          "model_module": "@jupyter-widgets/controls",
          "model_name": "HTMLModel",
          "state": {
            "_view_name": "HTMLView",
            "style": "IPY_MODEL_42801d49ea354eb2902b62c7d06d0f28",
            "_dom_classes": [],
            "description": "",
            "_model_name": "HTMLModel",
            "placeholder": "​",
            "_view_module": "@jupyter-widgets/controls",
            "_model_module_version": "1.5.0",
            "value": " 899k/899k [00:00&lt;00:00, 7.45MB/s]",
            "_view_count": null,
            "_view_module_version": "1.5.0",
            "description_tooltip": null,
            "_model_module": "@jupyter-widgets/controls",
            "layout": "IPY_MODEL_633a80807d8847439fc28c1b13f8ccd4"
          }
        },
        "1d1a1bedf25c41e0851add704cf1512c": {
          "model_module": "@jupyter-widgets/controls",
          "model_name": "ProgressStyleModel",
          "state": {
            "_view_name": "StyleView",
            "_model_name": "ProgressStyleModel",
            "description_width": "initial",
            "_view_module": "@jupyter-widgets/base",
            "_model_module_version": "1.5.0",
            "_view_count": null,
            "_view_module_version": "1.2.0",
            "bar_color": null,
            "_model_module": "@jupyter-widgets/controls"
          }
        },
        "8639e4a886fb434fb4f8bbf9b36bcde3": {
          "model_module": "@jupyter-widgets/base",
          "model_name": "LayoutModel",
          "state": {
            "_view_name": "LayoutView",
            "grid_template_rows": null,
            "right": null,
            "justify_content": null,
            "_view_module": "@jupyter-widgets/base",
            "overflow": null,
            "_model_module_version": "1.2.0",
            "_view_count": null,
            "flex_flow": null,
            "width": null,
            "min_width": null,
            "border": null,
            "align_items": null,
            "bottom": null,
            "_model_module": "@jupyter-widgets/base",
            "top": null,
            "grid_column": null,
            "overflow_y": null,
            "overflow_x": null,
            "grid_auto_flow": null,
            "grid_area": null,
            "grid_template_columns": null,
            "flex": null,
            "_model_name": "LayoutModel",
            "justify_items": null,
            "grid_row": null,
            "max_height": null,
            "align_content": null,
            "visibility": null,
            "align_self": null,
            "height": null,
            "min_height": null,
            "padding": null,
            "grid_auto_rows": null,
            "grid_gap": null,
            "max_width": null,
            "order": null,
            "_view_module_version": "1.2.0",
            "grid_template_areas": null,
            "object_position": null,
            "object_fit": null,
            "grid_auto_columns": null,
            "margin": null,
            "display": null,
            "left": null
          }
        },
        "42801d49ea354eb2902b62c7d06d0f28": {
          "model_module": "@jupyter-widgets/controls",
          "model_name": "DescriptionStyleModel",
          "state": {
            "_view_name": "StyleView",
            "_model_name": "DescriptionStyleModel",
            "description_width": "",
            "_view_module": "@jupyter-widgets/base",
            "_model_module_version": "1.5.0",
            "_view_count": null,
            "_view_module_version": "1.2.0",
            "_model_module": "@jupyter-widgets/controls"
          }
        },
        "633a80807d8847439fc28c1b13f8ccd4": {
          "model_module": "@jupyter-widgets/base",
          "model_name": "LayoutModel",
          "state": {
            "_view_name": "LayoutView",
            "grid_template_rows": null,
            "right": null,
            "justify_content": null,
            "_view_module": "@jupyter-widgets/base",
            "overflow": null,
            "_model_module_version": "1.2.0",
            "_view_count": null,
            "flex_flow": null,
            "width": null,
            "min_width": null,
            "border": null,
            "align_items": null,
            "bottom": null,
            "_model_module": "@jupyter-widgets/base",
            "top": null,
            "grid_column": null,
            "overflow_y": null,
            "overflow_x": null,
            "grid_auto_flow": null,
            "grid_area": null,
            "grid_template_columns": null,
            "flex": null,
            "_model_name": "LayoutModel",
            "justify_items": null,
            "grid_row": null,
            "max_height": null,
            "align_content": null,
            "visibility": null,
            "align_self": null,
            "height": null,
            "min_height": null,
            "padding": null,
            "grid_auto_rows": null,
            "grid_gap": null,
            "max_width": null,
            "order": null,
            "_view_module_version": "1.2.0",
            "grid_template_areas": null,
            "object_position": null,
            "object_fit": null,
            "grid_auto_columns": null,
            "margin": null,
            "display": null,
            "left": null
          }
        },
        "9ecccab519704d88a1820179a2214818": {
          "model_module": "@jupyter-widgets/controls",
          "model_name": "HBoxModel",
          "state": {
            "_view_name": "HBoxView",
            "_dom_classes": [],
            "_model_name": "HBoxModel",
            "_view_module": "@jupyter-widgets/controls",
            "_model_module_version": "1.5.0",
            "_view_count": null,
            "_view_module_version": "1.5.0",
            "box_style": "",
            "layout": "IPY_MODEL_c7c3d3eb01de4f50a2eb99c2eba04ed0",
            "_model_module": "@jupyter-widgets/controls",
            "children": [
              "IPY_MODEL_36924e8841aa426dac9464b830ab0050",
              "IPY_MODEL_436121bac9f346c29e94c857b1f39ab9"
            ]
          }
        },
        "c7c3d3eb01de4f50a2eb99c2eba04ed0": {
          "model_module": "@jupyter-widgets/base",
          "model_name": "LayoutModel",
          "state": {
            "_view_name": "LayoutView",
            "grid_template_rows": null,
            "right": null,
            "justify_content": null,
            "_view_module": "@jupyter-widgets/base",
            "overflow": null,
            "_model_module_version": "1.2.0",
            "_view_count": null,
            "flex_flow": null,
            "width": null,
            "min_width": null,
            "border": null,
            "align_items": null,
            "bottom": null,
            "_model_module": "@jupyter-widgets/base",
            "top": null,
            "grid_column": null,
            "overflow_y": null,
            "overflow_x": null,
            "grid_auto_flow": null,
            "grid_area": null,
            "grid_template_columns": null,
            "flex": null,
            "_model_name": "LayoutModel",
            "justify_items": null,
            "grid_row": null,
            "max_height": null,
            "align_content": null,
            "visibility": null,
            "align_self": null,
            "height": null,
            "min_height": null,
            "padding": null,
            "grid_auto_rows": null,
            "grid_gap": null,
            "max_width": null,
            "order": null,
            "_view_module_version": "1.2.0",
            "grid_template_areas": null,
            "object_position": null,
            "object_fit": null,
            "grid_auto_columns": null,
            "margin": null,
            "display": null,
            "left": null
          }
        },
        "36924e8841aa426dac9464b830ab0050": {
          "model_module": "@jupyter-widgets/controls",
          "model_name": "FloatProgressModel",
          "state": {
            "_view_name": "ProgressView",
            "style": "IPY_MODEL_c2276d560e0e4e00b09d621c1b3085c4",
            "_dom_classes": [],
            "description": "Downloading: 100%",
            "_model_name": "FloatProgressModel",
            "bar_style": "success",
            "max": 456318,
            "_view_module": "@jupyter-widgets/controls",
            "_model_module_version": "1.5.0",
            "value": 456318,
            "_view_count": null,
            "_view_module_version": "1.5.0",
            "orientation": "horizontal",
            "min": 0,
            "description_tooltip": null,
            "_model_module": "@jupyter-widgets/controls",
            "layout": "IPY_MODEL_9880d711bc1340669f179c93a67ae199"
          }
        },
        "436121bac9f346c29e94c857b1f39ab9": {
          "model_module": "@jupyter-widgets/controls",
          "model_name": "HTMLModel",
          "state": {
            "_view_name": "HTMLView",
            "style": "IPY_MODEL_89c58925ca2443259a420d4ad63e4c4e",
            "_dom_classes": [],
            "description": "",
            "_model_name": "HTMLModel",
            "placeholder": "​",
            "_view_module": "@jupyter-widgets/controls",
            "_model_module_version": "1.5.0",
            "value": " 456k/456k [00:29&lt;00:00, 15.3kB/s]",
            "_view_count": null,
            "_view_module_version": "1.5.0",
            "description_tooltip": null,
            "_model_module": "@jupyter-widgets/controls",
            "layout": "IPY_MODEL_74ee232eeef34902975244ad4aad7848"
          }
        },
        "c2276d560e0e4e00b09d621c1b3085c4": {
          "model_module": "@jupyter-widgets/controls",
          "model_name": "ProgressStyleModel",
          "state": {
            "_view_name": "StyleView",
            "_model_name": "ProgressStyleModel",
            "description_width": "initial",
            "_view_module": "@jupyter-widgets/base",
            "_model_module_version": "1.5.0",
            "_view_count": null,
            "_view_module_version": "1.2.0",
            "bar_color": null,
            "_model_module": "@jupyter-widgets/controls"
          }
        },
        "9880d711bc1340669f179c93a67ae199": {
          "model_module": "@jupyter-widgets/base",
          "model_name": "LayoutModel",
          "state": {
            "_view_name": "LayoutView",
            "grid_template_rows": null,
            "right": null,
            "justify_content": null,
            "_view_module": "@jupyter-widgets/base",
            "overflow": null,
            "_model_module_version": "1.2.0",
            "_view_count": null,
            "flex_flow": null,
            "width": null,
            "min_width": null,
            "border": null,
            "align_items": null,
            "bottom": null,
            "_model_module": "@jupyter-widgets/base",
            "top": null,
            "grid_column": null,
            "overflow_y": null,
            "overflow_x": null,
            "grid_auto_flow": null,
            "grid_area": null,
            "grid_template_columns": null,
            "flex": null,
            "_model_name": "LayoutModel",
            "justify_items": null,
            "grid_row": null,
            "max_height": null,
            "align_content": null,
            "visibility": null,
            "align_self": null,
            "height": null,
            "min_height": null,
            "padding": null,
            "grid_auto_rows": null,
            "grid_gap": null,
            "max_width": null,
            "order": null,
            "_view_module_version": "1.2.0",
            "grid_template_areas": null,
            "object_position": null,
            "object_fit": null,
            "grid_auto_columns": null,
            "margin": null,
            "display": null,
            "left": null
          }
        },
        "89c58925ca2443259a420d4ad63e4c4e": {
          "model_module": "@jupyter-widgets/controls",
          "model_name": "DescriptionStyleModel",
          "state": {
            "_view_name": "StyleView",
            "_model_name": "DescriptionStyleModel",
            "description_width": "",
            "_view_module": "@jupyter-widgets/base",
            "_model_module_version": "1.5.0",
            "_view_count": null,
            "_view_module_version": "1.2.0",
            "_model_module": "@jupyter-widgets/controls"
          }
        },
        "74ee232eeef34902975244ad4aad7848": {
          "model_module": "@jupyter-widgets/base",
          "model_name": "LayoutModel",
          "state": {
            "_view_name": "LayoutView",
            "grid_template_rows": null,
            "right": null,
            "justify_content": null,
            "_view_module": "@jupyter-widgets/base",
            "overflow": null,
            "_model_module_version": "1.2.0",
            "_view_count": null,
            "flex_flow": null,
            "width": null,
            "min_width": null,
            "border": null,
            "align_items": null,
            "bottom": null,
            "_model_module": "@jupyter-widgets/base",
            "top": null,
            "grid_column": null,
            "overflow_y": null,
            "overflow_x": null,
            "grid_auto_flow": null,
            "grid_area": null,
            "grid_template_columns": null,
            "flex": null,
            "_model_name": "LayoutModel",
            "justify_items": null,
            "grid_row": null,
            "max_height": null,
            "align_content": null,
            "visibility": null,
            "align_self": null,
            "height": null,
            "min_height": null,
            "padding": null,
            "grid_auto_rows": null,
            "grid_gap": null,
            "max_width": null,
            "order": null,
            "_view_module_version": "1.2.0",
            "grid_template_areas": null,
            "object_position": null,
            "object_fit": null,
            "grid_auto_columns": null,
            "margin": null,
            "display": null,
            "left": null
          }
        },
        "7755bdb545f34f03995a91e93eda334a": {
          "model_module": "@jupyter-widgets/controls",
          "model_name": "HBoxModel",
          "state": {
            "_view_name": "HBoxView",
            "_dom_classes": [],
            "_model_name": "HBoxModel",
            "_view_module": "@jupyter-widgets/controls",
            "_model_module_version": "1.5.0",
            "_view_count": null,
            "_view_module_version": "1.5.0",
            "box_style": "",
            "layout": "IPY_MODEL_cb170ef3d82546d5be826ed33dcca95a",
            "_model_module": "@jupyter-widgets/controls",
            "children": [
              "IPY_MODEL_f2d1479e64ce45a499c02b10fd150192",
              "IPY_MODEL_282eb00b880f43a6835f322c348c8331"
            ]
          }
        },
        "cb170ef3d82546d5be826ed33dcca95a": {
          "model_module": "@jupyter-widgets/base",
          "model_name": "LayoutModel",
          "state": {
            "_view_name": "LayoutView",
            "grid_template_rows": null,
            "right": null,
            "justify_content": null,
            "_view_module": "@jupyter-widgets/base",
            "overflow": null,
            "_model_module_version": "1.2.0",
            "_view_count": null,
            "flex_flow": null,
            "width": null,
            "min_width": null,
            "border": null,
            "align_items": null,
            "bottom": null,
            "_model_module": "@jupyter-widgets/base",
            "top": null,
            "grid_column": null,
            "overflow_y": null,
            "overflow_x": null,
            "grid_auto_flow": null,
            "grid_area": null,
            "grid_template_columns": null,
            "flex": null,
            "_model_name": "LayoutModel",
            "justify_items": null,
            "grid_row": null,
            "max_height": null,
            "align_content": null,
            "visibility": null,
            "align_self": null,
            "height": null,
            "min_height": null,
            "padding": null,
            "grid_auto_rows": null,
            "grid_gap": null,
            "max_width": null,
            "order": null,
            "_view_module_version": "1.2.0",
            "grid_template_areas": null,
            "object_position": null,
            "object_fit": null,
            "grid_auto_columns": null,
            "margin": null,
            "display": null,
            "left": null
          }
        },
        "f2d1479e64ce45a499c02b10fd150192": {
          "model_module": "@jupyter-widgets/controls",
          "model_name": "FloatProgressModel",
          "state": {
            "_view_name": "ProgressView",
            "style": "IPY_MODEL_02a7412f16a44862bcca2b7926307ba9",
            "_dom_classes": [],
            "description": "Downloading: 100%",
            "_model_name": "FloatProgressModel",
            "bar_style": "success",
            "max": 1355863,
            "_view_module": "@jupyter-widgets/controls",
            "_model_module_version": "1.5.0",
            "value": 1355863,
            "_view_count": null,
            "_view_module_version": "1.5.0",
            "orientation": "horizontal",
            "min": 0,
            "description_tooltip": null,
            "_model_module": "@jupyter-widgets/controls",
            "layout": "IPY_MODEL_ce75670559ac4c0881512444b496c837"
          }
        },
        "282eb00b880f43a6835f322c348c8331": {
          "model_module": "@jupyter-widgets/controls",
          "model_name": "HTMLModel",
          "state": {
            "_view_name": "HTMLView",
            "style": "IPY_MODEL_f1d82d7c68104f8c8958ce67304c0a4e",
            "_dom_classes": [],
            "description": "",
            "_model_name": "HTMLModel",
            "placeholder": "​",
            "_view_module": "@jupyter-widgets/controls",
            "_model_module_version": "1.5.0",
            "value": " 1.36M/1.36M [00:20&lt;00:00, 65.5kB/s]",
            "_view_count": null,
            "_view_module_version": "1.5.0",
            "description_tooltip": null,
            "_model_module": "@jupyter-widgets/controls",
            "layout": "IPY_MODEL_f2e6f67d766f4656ac18df2ce8289de9"
          }
        },
        "02a7412f16a44862bcca2b7926307ba9": {
          "model_module": "@jupyter-widgets/controls",
          "model_name": "ProgressStyleModel",
          "state": {
            "_view_name": "StyleView",
            "_model_name": "ProgressStyleModel",
            "description_width": "initial",
            "_view_module": "@jupyter-widgets/base",
            "_model_module_version": "1.5.0",
            "_view_count": null,
            "_view_module_version": "1.2.0",
            "bar_color": null,
            "_model_module": "@jupyter-widgets/controls"
          }
        },
        "ce75670559ac4c0881512444b496c837": {
          "model_module": "@jupyter-widgets/base",
          "model_name": "LayoutModel",
          "state": {
            "_view_name": "LayoutView",
            "grid_template_rows": null,
            "right": null,
            "justify_content": null,
            "_view_module": "@jupyter-widgets/base",
            "overflow": null,
            "_model_module_version": "1.2.0",
            "_view_count": null,
            "flex_flow": null,
            "width": null,
            "min_width": null,
            "border": null,
            "align_items": null,
            "bottom": null,
            "_model_module": "@jupyter-widgets/base",
            "top": null,
            "grid_column": null,
            "overflow_y": null,
            "overflow_x": null,
            "grid_auto_flow": null,
            "grid_area": null,
            "grid_template_columns": null,
            "flex": null,
            "_model_name": "LayoutModel",
            "justify_items": null,
            "grid_row": null,
            "max_height": null,
            "align_content": null,
            "visibility": null,
            "align_self": null,
            "height": null,
            "min_height": null,
            "padding": null,
            "grid_auto_rows": null,
            "grid_gap": null,
            "max_width": null,
            "order": null,
            "_view_module_version": "1.2.0",
            "grid_template_areas": null,
            "object_position": null,
            "object_fit": null,
            "grid_auto_columns": null,
            "margin": null,
            "display": null,
            "left": null
          }
        },
        "f1d82d7c68104f8c8958ce67304c0a4e": {
          "model_module": "@jupyter-widgets/controls",
          "model_name": "DescriptionStyleModel",
          "state": {
            "_view_name": "StyleView",
            "_model_name": "DescriptionStyleModel",
            "description_width": "",
            "_view_module": "@jupyter-widgets/base",
            "_model_module_version": "1.5.0",
            "_view_count": null,
            "_view_module_version": "1.2.0",
            "_model_module": "@jupyter-widgets/controls"
          }
        },
        "f2e6f67d766f4656ac18df2ce8289de9": {
          "model_module": "@jupyter-widgets/base",
          "model_name": "LayoutModel",
          "state": {
            "_view_name": "LayoutView",
            "grid_template_rows": null,
            "right": null,
            "justify_content": null,
            "_view_module": "@jupyter-widgets/base",
            "overflow": null,
            "_model_module_version": "1.2.0",
            "_view_count": null,
            "flex_flow": null,
            "width": null,
            "min_width": null,
            "border": null,
            "align_items": null,
            "bottom": null,
            "_model_module": "@jupyter-widgets/base",
            "top": null,
            "grid_column": null,
            "overflow_y": null,
            "overflow_x": null,
            "grid_auto_flow": null,
            "grid_area": null,
            "grid_template_columns": null,
            "flex": null,
            "_model_name": "LayoutModel",
            "justify_items": null,
            "grid_row": null,
            "max_height": null,
            "align_content": null,
            "visibility": null,
            "align_self": null,
            "height": null,
            "min_height": null,
            "padding": null,
            "grid_auto_rows": null,
            "grid_gap": null,
            "max_width": null,
            "order": null,
            "_view_module_version": "1.2.0",
            "grid_template_areas": null,
            "object_position": null,
            "object_fit": null,
            "grid_auto_columns": null,
            "margin": null,
            "display": null,
            "left": null
          }
        },
        "11764806e3454d229eb48cf167502c9b": {
          "model_module": "@jupyter-widgets/controls",
          "model_name": "HBoxModel",
          "state": {
            "_view_name": "HBoxView",
            "_dom_classes": [],
            "_model_name": "HBoxModel",
            "_view_module": "@jupyter-widgets/controls",
            "_model_module_version": "1.5.0",
            "_view_count": null,
            "_view_module_version": "1.5.0",
            "box_style": "",
            "layout": "IPY_MODEL_d5515e2efb21404e96d554e0c822e606",
            "_model_module": "@jupyter-widgets/controls",
            "children": [
              "IPY_MODEL_b2b8442414b34dfd802ac7ecbe19c86f",
              "IPY_MODEL_3110ecdfa5854628b00054c46066a38b"
            ]
          }
        },
        "d5515e2efb21404e96d554e0c822e606": {
          "model_module": "@jupyter-widgets/base",
          "model_name": "LayoutModel",
          "state": {
            "_view_name": "LayoutView",
            "grid_template_rows": null,
            "right": null,
            "justify_content": null,
            "_view_module": "@jupyter-widgets/base",
            "overflow": null,
            "_model_module_version": "1.2.0",
            "_view_count": null,
            "flex_flow": null,
            "width": null,
            "min_width": null,
            "border": null,
            "align_items": null,
            "bottom": null,
            "_model_module": "@jupyter-widgets/base",
            "top": null,
            "grid_column": null,
            "overflow_y": null,
            "overflow_x": null,
            "grid_auto_flow": null,
            "grid_area": null,
            "grid_template_columns": null,
            "flex": null,
            "_model_name": "LayoutModel",
            "justify_items": null,
            "grid_row": null,
            "max_height": null,
            "align_content": null,
            "visibility": null,
            "align_self": null,
            "height": null,
            "min_height": null,
            "padding": null,
            "grid_auto_rows": null,
            "grid_gap": null,
            "max_width": null,
            "order": null,
            "_view_module_version": "1.2.0",
            "grid_template_areas": null,
            "object_position": null,
            "object_fit": null,
            "grid_auto_columns": null,
            "margin": null,
            "display": null,
            "left": null
          }
        },
        "b2b8442414b34dfd802ac7ecbe19c86f": {
          "model_module": "@jupyter-widgets/controls",
          "model_name": "FloatProgressModel",
          "state": {
            "_view_name": "ProgressView",
            "style": "IPY_MODEL_e249a712572f4e348ce4765c9b99d1d7",
            "_dom_classes": [],
            "description": "Downloading: 100%",
            "_model_name": "FloatProgressModel",
            "bar_style": "success",
            "max": 1425744429,
            "_view_module": "@jupyter-widgets/controls",
            "_model_module_version": "1.5.0",
            "value": 1425744429,
            "_view_count": null,
            "_view_module_version": "1.5.0",
            "orientation": "horizontal",
            "min": 0,
            "description_tooltip": null,
            "_model_module": "@jupyter-widgets/controls",
            "layout": "IPY_MODEL_6c90457036f343a9bd038ab323d7b190"
          }
        },
        "3110ecdfa5854628b00054c46066a38b": {
          "model_module": "@jupyter-widgets/controls",
          "model_name": "HTMLModel",
          "state": {
            "_view_name": "HTMLView",
            "style": "IPY_MODEL_cea834aaad8d4d73b0bb831cd2198546",
            "_dom_classes": [],
            "description": "",
            "_model_name": "HTMLModel",
            "placeholder": "​",
            "_view_module": "@jupyter-widgets/controls",
            "_model_module_version": "1.5.0",
            "value": " 1.43G/1.43G [00:20&lt;00:00, 69.8MB/s]",
            "_view_count": null,
            "_view_module_version": "1.5.0",
            "description_tooltip": null,
            "_model_module": "@jupyter-widgets/controls",
            "layout": "IPY_MODEL_add87e878fea4d33a291615ab330d00d"
          }
        },
        "e249a712572f4e348ce4765c9b99d1d7": {
          "model_module": "@jupyter-widgets/controls",
          "model_name": "ProgressStyleModel",
          "state": {
            "_view_name": "StyleView",
            "_model_name": "ProgressStyleModel",
            "description_width": "initial",
            "_view_module": "@jupyter-widgets/base",
            "_model_module_version": "1.5.0",
            "_view_count": null,
            "_view_module_version": "1.2.0",
            "bar_color": null,
            "_model_module": "@jupyter-widgets/controls"
          }
        },
        "6c90457036f343a9bd038ab323d7b190": {
          "model_module": "@jupyter-widgets/base",
          "model_name": "LayoutModel",
          "state": {
            "_view_name": "LayoutView",
            "grid_template_rows": null,
            "right": null,
            "justify_content": null,
            "_view_module": "@jupyter-widgets/base",
            "overflow": null,
            "_model_module_version": "1.2.0",
            "_view_count": null,
            "flex_flow": null,
            "width": null,
            "min_width": null,
            "border": null,
            "align_items": null,
            "bottom": null,
            "_model_module": "@jupyter-widgets/base",
            "top": null,
            "grid_column": null,
            "overflow_y": null,
            "overflow_x": null,
            "grid_auto_flow": null,
            "grid_area": null,
            "grid_template_columns": null,
            "flex": null,
            "_model_name": "LayoutModel",
            "justify_items": null,
            "grid_row": null,
            "max_height": null,
            "align_content": null,
            "visibility": null,
            "align_self": null,
            "height": null,
            "min_height": null,
            "padding": null,
            "grid_auto_rows": null,
            "grid_gap": null,
            "max_width": null,
            "order": null,
            "_view_module_version": "1.2.0",
            "grid_template_areas": null,
            "object_position": null,
            "object_fit": null,
            "grid_auto_columns": null,
            "margin": null,
            "display": null,
            "left": null
          }
        },
        "cea834aaad8d4d73b0bb831cd2198546": {
          "model_module": "@jupyter-widgets/controls",
          "model_name": "DescriptionStyleModel",
          "state": {
            "_view_name": "StyleView",
            "_model_name": "DescriptionStyleModel",
            "description_width": "",
            "_view_module": "@jupyter-widgets/base",
            "_model_module_version": "1.5.0",
            "_view_count": null,
            "_view_module_version": "1.2.0",
            "_model_module": "@jupyter-widgets/controls"
          }
        },
        "add87e878fea4d33a291615ab330d00d": {
          "model_module": "@jupyter-widgets/base",
          "model_name": "LayoutModel",
          "state": {
            "_view_name": "LayoutView",
            "grid_template_rows": null,
            "right": null,
            "justify_content": null,
            "_view_module": "@jupyter-widgets/base",
            "overflow": null,
            "_model_module_version": "1.2.0",
            "_view_count": null,
            "flex_flow": null,
            "width": null,
            "min_width": null,
            "border": null,
            "align_items": null,
            "bottom": null,
            "_model_module": "@jupyter-widgets/base",
            "top": null,
            "grid_column": null,
            "overflow_y": null,
            "overflow_x": null,
            "grid_auto_flow": null,
            "grid_area": null,
            "grid_template_columns": null,
            "flex": null,
            "_model_name": "LayoutModel",
            "justify_items": null,
            "grid_row": null,
            "max_height": null,
            "align_content": null,
            "visibility": null,
            "align_self": null,
            "height": null,
            "min_height": null,
            "padding": null,
            "grid_auto_rows": null,
            "grid_gap": null,
            "max_width": null,
            "order": null,
            "_view_module_version": "1.2.0",
            "grid_template_areas": null,
            "object_position": null,
            "object_fit": null,
            "grid_auto_columns": null,
            "margin": null,
            "display": null,
            "left": null
          }
        }
      }
    }
  },
  "cells": [
    {
      "cell_type": "markdown",
      "metadata": {
        "id": "9eIUz6Xrk7Mn"
      },
      "source": [
        "# ConvEnt: Tuned with Knowledge\n",
        "\n",
        "EECS 595 Final Project, Task 3: EAT\n",
        "\n",
        "* Team 2 || Students: Ziqiao Ma, Qingyi Chen, Xueming Xu\n",
        "* Validation Accuracy: 66.3%"
      ]
    },
    {
      "cell_type": "markdown",
      "metadata": {
        "id": "g7BQNAknKvsn"
      },
      "source": [
        "# Setup"
      ]
    },
    {
      "cell_type": "markdown",
      "metadata": {
        "id": "PrMYC3StmXpm"
      },
      "source": [
        "## Colab setups"
      ]
    },
    {
      "cell_type": "markdown",
      "metadata": {
        "id": "2LeDbHL6oLFI"
      },
      "source": [
        "Run this cell load the autoreload extension."
      ]
    },
    {
      "cell_type": "code",
      "metadata": {
        "id": "xUiA5dX3yFGX"
      },
      "source": [
        "%load_ext autoreload\n",
        "%autoreload 2"
      ],
      "execution_count": null,
      "outputs": []
    },
    {
      "cell_type": "markdown",
      "metadata": {
        "id": "np_T5dXFoSrk"
      },
      "source": [
        "Run the following cell to mount your Google Drive."
      ]
    },
    {
      "cell_type": "code",
      "metadata": {
        "id": "s36tQoeYVLA0",
        "colab": {
          "base_uri": "https://localhost:8080/"
        },
        "outputId": "7461c56b-37dc-4842-8646-5e13ef00155f"
      },
      "source": [
        "from google.colab import drive\n",
        "drive.mount('/content/drive')"
      ],
      "execution_count": null,
      "outputs": [
        {
          "output_type": "stream",
          "text": [
            "Mounted at /content/drive\n"
          ],
          "name": "stdout"
        }
      ]
    },
    {
      "cell_type": "markdown",
      "metadata": {
        "id": "mLAALYTAo25M"
      },
      "source": [
        "Test if script files are located."
      ]
    },
    {
      "cell_type": "code",
      "metadata": {
        "id": "9KVidViv0AO2"
      },
      "source": [
        "import os\n",
        "import sys"
      ],
      "execution_count": null,
      "outputs": []
    },
    {
      "cell_type": "markdown",
      "metadata": {
        "id": "aB4aTTM14sCE"
      },
      "source": [
        "Check if dataset file is located, you should see `eat_test_unlabeled.json` and `eat_train.json` in the folder."
      ]
    },
    {
      "cell_type": "code",
      "metadata": {
        "colab": {
          "base_uri": "https://localhost:8080/"
        },
        "id": "-lrrOs4d4lkE",
        "outputId": "13337cca-7a47-49ab-e181-ee9d5d9a2cfc"
      },
      "source": [
        "!ls /content/drive/Shareddrives/EECS595-Fall2020/Final_Project_Common/Conversational_Entailment/"
      ],
      "execution_count": null,
      "outputs": [
        {
          "output_type": "stream",
          "text": [
            "act_tag.json\t   dev_set.json  test_set_unlabeled.json\n",
            "act_tag_test.json  README.gdoc\n"
          ],
          "name": "stdout"
        }
      ]
    },
    {
      "cell_type": "markdown",
      "metadata": {
        "id": "n4WOO9tvye13"
      },
      "source": [
        "## Dependency installation"
      ]
    },
    {
      "cell_type": "code",
      "metadata": {
        "id": "m03X-0vLyLM0"
      },
      "source": [
        "import json\n",
        "import codecs\n",
        "import pandas as pd\n",
        "\n",
        "import argparse\n",
        "from copy import deepcopy\n",
        "from tqdm import tqdm, trange\n",
        "\n",
        "import random\n",
        "import numpy as np\n",
        "\n",
        "from sklearn.model_selection import train_test_split\n",
        "from sklearn.metrics import classification_report\n",
        "from sklearn.metrics import accuracy_score\n",
        "from sklearn.metrics import confusion_matrix\n",
        "\n",
        "import torch\n",
        "import torch.nn as nn\n",
        "from torch.utils.data import TensorDataset, DataLoader, RandomSampler, SequentialSampler"
      ],
      "execution_count": null,
      "outputs": []
    },
    {
      "cell_type": "markdown",
      "metadata": {
        "id": "gCt4UVaGNCgI"
      },
      "source": [
        "Install `sentencepiece` for `XLNetTokenizer`"
      ]
    },
    {
      "cell_type": "code",
      "metadata": {
        "colab": {
          "base_uri": "https://localhost:8080/"
        },
        "id": "JmfU0rSbNCzm",
        "outputId": "2cb51a57-728a-4c6c-bd4e-52fad76b07ee"
      },
      "source": [
        "!pip install sentencepiece\n",
        "\n",
        "import sentencepiece"
      ],
      "execution_count": null,
      "outputs": [
        {
          "output_type": "stream",
          "text": [
            "Collecting sentencepiece\n",
            "\u001b[?25l  Downloading https://files.pythonhosted.org/packages/e5/2d/6d4ca4bef9a67070fa1cac508606328329152b1df10bdf31fb6e4e727894/sentencepiece-0.1.94-cp36-cp36m-manylinux2014_x86_64.whl (1.1MB)\n",
            "\r\u001b[K     |▎                               | 10kB 18.1MB/s eta 0:00:01\r\u001b[K     |▋                               | 20kB 17.7MB/s eta 0:00:01\r\u001b[K     |▉                               | 30kB 15.1MB/s eta 0:00:01\r\u001b[K     |█▏                              | 40kB 14.5MB/s eta 0:00:01\r\u001b[K     |█▌                              | 51kB 12.0MB/s eta 0:00:01\r\u001b[K     |█▊                              | 61kB 11.5MB/s eta 0:00:01\r\u001b[K     |██                              | 71kB 11.4MB/s eta 0:00:01\r\u001b[K     |██▍                             | 81kB 11.7MB/s eta 0:00:01\r\u001b[K     |██▋                             | 92kB 11.6MB/s eta 0:00:01\r\u001b[K     |███                             | 102kB 11.0MB/s eta 0:00:01\r\u001b[K     |███▎                            | 112kB 11.0MB/s eta 0:00:01\r\u001b[K     |███▌                            | 122kB 11.0MB/s eta 0:00:01\r\u001b[K     |███▉                            | 133kB 11.0MB/s eta 0:00:01\r\u001b[K     |████▏                           | 143kB 11.0MB/s eta 0:00:01\r\u001b[K     |████▍                           | 153kB 11.0MB/s eta 0:00:01\r\u001b[K     |████▊                           | 163kB 11.0MB/s eta 0:00:01\r\u001b[K     |█████                           | 174kB 11.0MB/s eta 0:00:01\r\u001b[K     |█████▎                          | 184kB 11.0MB/s eta 0:00:01\r\u001b[K     |█████▋                          | 194kB 11.0MB/s eta 0:00:01\r\u001b[K     |█████▉                          | 204kB 11.0MB/s eta 0:00:01\r\u001b[K     |██████▏                         | 215kB 11.0MB/s eta 0:00:01\r\u001b[K     |██████▌                         | 225kB 11.0MB/s eta 0:00:01\r\u001b[K     |██████▊                         | 235kB 11.0MB/s eta 0:00:01\r\u001b[K     |███████                         | 245kB 11.0MB/s eta 0:00:01\r\u001b[K     |███████▍                        | 256kB 11.0MB/s eta 0:00:01\r\u001b[K     |███████▋                        | 266kB 11.0MB/s eta 0:00:01\r\u001b[K     |████████                        | 276kB 11.0MB/s eta 0:00:01\r\u001b[K     |████████▎                       | 286kB 11.0MB/s eta 0:00:01\r\u001b[K     |████████▌                       | 296kB 11.0MB/s eta 0:00:01\r\u001b[K     |████████▉                       | 307kB 11.0MB/s eta 0:00:01\r\u001b[K     |█████████                       | 317kB 11.0MB/s eta 0:00:01\r\u001b[K     |█████████▍                      | 327kB 11.0MB/s eta 0:00:01\r\u001b[K     |█████████▊                      | 337kB 11.0MB/s eta 0:00:01\r\u001b[K     |██████████                      | 348kB 11.0MB/s eta 0:00:01\r\u001b[K     |██████████▎                     | 358kB 11.0MB/s eta 0:00:01\r\u001b[K     |██████████▋                     | 368kB 11.0MB/s eta 0:00:01\r\u001b[K     |██████████▉                     | 378kB 11.0MB/s eta 0:00:01\r\u001b[K     |███████████▏                    | 389kB 11.0MB/s eta 0:00:01\r\u001b[K     |███████████▌                    | 399kB 11.0MB/s eta 0:00:01\r\u001b[K     |███████████▊                    | 409kB 11.0MB/s eta 0:00:01\r\u001b[K     |████████████                    | 419kB 11.0MB/s eta 0:00:01\r\u001b[K     |████████████▍                   | 430kB 11.0MB/s eta 0:00:01\r\u001b[K     |████████████▋                   | 440kB 11.0MB/s eta 0:00:01\r\u001b[K     |█████████████                   | 450kB 11.0MB/s eta 0:00:01\r\u001b[K     |█████████████▎                  | 460kB 11.0MB/s eta 0:00:01\r\u001b[K     |█████████████▌                  | 471kB 11.0MB/s eta 0:00:01\r\u001b[K     |█████████████▉                  | 481kB 11.0MB/s eta 0:00:01\r\u001b[K     |██████████████                  | 491kB 11.0MB/s eta 0:00:01\r\u001b[K     |██████████████▍                 | 501kB 11.0MB/s eta 0:00:01\r\u001b[K     |██████████████▊                 | 512kB 11.0MB/s eta 0:00:01\r\u001b[K     |███████████████                 | 522kB 11.0MB/s eta 0:00:01\r\u001b[K     |███████████████▎                | 532kB 11.0MB/s eta 0:00:01\r\u001b[K     |███████████████▋                | 542kB 11.0MB/s eta 0:00:01\r\u001b[K     |███████████████▉                | 552kB 11.0MB/s eta 0:00:01\r\u001b[K     |████████████████▏               | 563kB 11.0MB/s eta 0:00:01\r\u001b[K     |████████████████▌               | 573kB 11.0MB/s eta 0:00:01\r\u001b[K     |████████████████▊               | 583kB 11.0MB/s eta 0:00:01\r\u001b[K     |█████████████████               | 593kB 11.0MB/s eta 0:00:01\r\u001b[K     |█████████████████▍              | 604kB 11.0MB/s eta 0:00:01\r\u001b[K     |█████████████████▋              | 614kB 11.0MB/s eta 0:00:01\r\u001b[K     |██████████████████              | 624kB 11.0MB/s eta 0:00:01\r\u001b[K     |██████████████████▏             | 634kB 11.0MB/s eta 0:00:01\r\u001b[K     |██████████████████▌             | 645kB 11.0MB/s eta 0:00:01\r\u001b[K     |██████████████████▉             | 655kB 11.0MB/s eta 0:00:01\r\u001b[K     |███████████████████             | 665kB 11.0MB/s eta 0:00:01\r\u001b[K     |███████████████████▍            | 675kB 11.0MB/s eta 0:00:01\r\u001b[K     |███████████████████▊            | 686kB 11.0MB/s eta 0:00:01\r\u001b[K     |████████████████████            | 696kB 11.0MB/s eta 0:00:01\r\u001b[K     |████████████████████▎           | 706kB 11.0MB/s eta 0:00:01\r\u001b[K     |████████████████████▋           | 716kB 11.0MB/s eta 0:00:01\r\u001b[K     |████████████████████▉           | 727kB 11.0MB/s eta 0:00:01\r\u001b[K     |█████████████████████▏          | 737kB 11.0MB/s eta 0:00:01\r\u001b[K     |█████████████████████▌          | 747kB 11.0MB/s eta 0:00:01\r\u001b[K     |█████████████████████▊          | 757kB 11.0MB/s eta 0:00:01\r\u001b[K     |██████████████████████          | 768kB 11.0MB/s eta 0:00:01\r\u001b[K     |██████████████████████▎         | 778kB 11.0MB/s eta 0:00:01\r\u001b[K     |██████████████████████▋         | 788kB 11.0MB/s eta 0:00:01\r\u001b[K     |███████████████████████         | 798kB 11.0MB/s eta 0:00:01\r\u001b[K     |███████████████████████▏        | 808kB 11.0MB/s eta 0:00:01\r\u001b[K     |███████████████████████▌        | 819kB 11.0MB/s eta 0:00:01\r\u001b[K     |███████████████████████▉        | 829kB 11.0MB/s eta 0:00:01\r\u001b[K     |████████████████████████        | 839kB 11.0MB/s eta 0:00:01\r\u001b[K     |████████████████████████▍       | 849kB 11.0MB/s eta 0:00:01\r\u001b[K     |████████████████████████▊       | 860kB 11.0MB/s eta 0:00:01\r\u001b[K     |█████████████████████████       | 870kB 11.0MB/s eta 0:00:01\r\u001b[K     |█████████████████████████▎      | 880kB 11.0MB/s eta 0:00:01\r\u001b[K     |█████████████████████████▋      | 890kB 11.0MB/s eta 0:00:01\r\u001b[K     |█████████████████████████▉      | 901kB 11.0MB/s eta 0:00:01\r\u001b[K     |██████████████████████████▏     | 911kB 11.0MB/s eta 0:00:01\r\u001b[K     |██████████████████████████▌     | 921kB 11.0MB/s eta 0:00:01\r\u001b[K     |██████████████████████████▊     | 931kB 11.0MB/s eta 0:00:01\r\u001b[K     |███████████████████████████     | 942kB 11.0MB/s eta 0:00:01\r\u001b[K     |███████████████████████████▎    | 952kB 11.0MB/s eta 0:00:01\r\u001b[K     |███████████████████████████▋    | 962kB 11.0MB/s eta 0:00:01\r\u001b[K     |████████████████████████████    | 972kB 11.0MB/s eta 0:00:01\r\u001b[K     |████████████████████████████▏   | 983kB 11.0MB/s eta 0:00:01\r\u001b[K     |████████████████████████████▌   | 993kB 11.0MB/s eta 0:00:01\r\u001b[K     |████████████████████████████▉   | 1.0MB 11.0MB/s eta 0:00:01\r\u001b[K     |█████████████████████████████   | 1.0MB 11.0MB/s eta 0:00:01\r\u001b[K     |█████████████████████████████▍  | 1.0MB 11.0MB/s eta 0:00:01\r\u001b[K     |█████████████████████████████▊  | 1.0MB 11.0MB/s eta 0:00:01\r\u001b[K     |██████████████████████████████  | 1.0MB 11.0MB/s eta 0:00:01\r\u001b[K     |██████████████████████████████▎ | 1.1MB 11.0MB/s eta 0:00:01\r\u001b[K     |██████████████████████████████▋ | 1.1MB 11.0MB/s eta 0:00:01\r\u001b[K     |██████████████████████████████▉ | 1.1MB 11.0MB/s eta 0:00:01\r\u001b[K     |███████████████████████████████▏| 1.1MB 11.0MB/s eta 0:00:01\r\u001b[K     |███████████████████████████████▍| 1.1MB 11.0MB/s eta 0:00:01\r\u001b[K     |███████████████████████████████▊| 1.1MB 11.0MB/s eta 0:00:01\r\u001b[K     |████████████████████████████████| 1.1MB 11.0MB/s \n",
            "\u001b[?25hInstalling collected packages: sentencepiece\n",
            "Successfully installed sentencepiece-0.1.94\n"
          ],
          "name": "stdout"
        }
      ]
    },
    {
      "cell_type": "markdown",
      "metadata": {
        "id": "aern7KsY01YS"
      },
      "source": [
        "Install `transformers`"
      ]
    },
    {
      "cell_type": "code",
      "metadata": {
        "id": "5hTWa5DGyvQh",
        "colab": {
          "base_uri": "https://localhost:8080/"
        },
        "outputId": "f5e26768-dfc2-4d7d-f8ff-75186a5800ef"
      },
      "source": [
        "!pip install transformers\n",
        "# !pip install transformers==2.0.0\n",
        "from transformers import  AutoConfig, AutoModelForSequenceClassification, AutoTokenizer\n",
        "from transformers import BertModel, RobertaModel\n",
        "from transformers import (AdamW, get_linear_schedule_with_warmup, AutoModelForQuestionAnswering,\n",
        "                          BertConfig, BertForSequenceClassification, BertTokenizer,\n",
        "                          XLNetConfig, XLNetForSequenceClassification, XLNetTokenizer,\n",
        "                          RobertaConfig, RobertaForSequenceClassification, RobertaTokenizer,\n",
        "                          GPT2Config, GPT2ForSequenceClassification, GPT2Tokenizer)"
      ],
      "execution_count": null,
      "outputs": [
        {
          "output_type": "stream",
          "text": [
            "Collecting transformers\n",
            "\u001b[?25l  Downloading https://files.pythonhosted.org/packages/ed/db/98c3ea1a78190dac41c0127a063abf92bd01b4b0b6970a6db1c2f5b66fa0/transformers-4.0.1-py3-none-any.whl (1.4MB)\n",
            "\r\u001b[K     |▎                               | 10kB 23.9MB/s eta 0:00:01\r\u001b[K     |▌                               | 20kB 19.9MB/s eta 0:00:01\r\u001b[K     |▊                               | 30kB 16.7MB/s eta 0:00:01\r\u001b[K     |█                               | 40kB 15.8MB/s eta 0:00:01\r\u001b[K     |█▏                              | 51kB 12.4MB/s eta 0:00:01\r\u001b[K     |█▌                              | 61kB 12.2MB/s eta 0:00:01\r\u001b[K     |█▊                              | 71kB 12.3MB/s eta 0:00:01\r\u001b[K     |██                              | 81kB 13.0MB/s eta 0:00:01\r\u001b[K     |██▏                             | 92kB 13.7MB/s eta 0:00:01\r\u001b[K     |██▍                             | 102kB 13.4MB/s eta 0:00:01\r\u001b[K     |██▋                             | 112kB 13.4MB/s eta 0:00:01\r\u001b[K     |███                             | 122kB 13.4MB/s eta 0:00:01\r\u001b[K     |███▏                            | 133kB 13.4MB/s eta 0:00:01\r\u001b[K     |███▍                            | 143kB 13.4MB/s eta 0:00:01\r\u001b[K     |███▋                            | 153kB 13.4MB/s eta 0:00:01\r\u001b[K     |███▉                            | 163kB 13.4MB/s eta 0:00:01\r\u001b[K     |████▏                           | 174kB 13.4MB/s eta 0:00:01\r\u001b[K     |████▍                           | 184kB 13.4MB/s eta 0:00:01\r\u001b[K     |████▋                           | 194kB 13.4MB/s eta 0:00:01\r\u001b[K     |████▉                           | 204kB 13.4MB/s eta 0:00:01\r\u001b[K     |█████                           | 215kB 13.4MB/s eta 0:00:01\r\u001b[K     |█████▎                          | 225kB 13.4MB/s eta 0:00:01\r\u001b[K     |█████▋                          | 235kB 13.4MB/s eta 0:00:01\r\u001b[K     |█████▉                          | 245kB 13.4MB/s eta 0:00:01\r\u001b[K     |██████                          | 256kB 13.4MB/s eta 0:00:01\r\u001b[K     |██████▎                         | 266kB 13.4MB/s eta 0:00:01\r\u001b[K     |██████▌                         | 276kB 13.4MB/s eta 0:00:01\r\u001b[K     |██████▉                         | 286kB 13.4MB/s eta 0:00:01\r\u001b[K     |███████                         | 296kB 13.4MB/s eta 0:00:01\r\u001b[K     |███████▎                        | 307kB 13.4MB/s eta 0:00:01\r\u001b[K     |███████▌                        | 317kB 13.4MB/s eta 0:00:01\r\u001b[K     |███████▊                        | 327kB 13.4MB/s eta 0:00:01\r\u001b[K     |████████                        | 337kB 13.4MB/s eta 0:00:01\r\u001b[K     |████████▎                       | 348kB 13.4MB/s eta 0:00:01\r\u001b[K     |████████▌                       | 358kB 13.4MB/s eta 0:00:01\r\u001b[K     |████████▊                       | 368kB 13.4MB/s eta 0:00:01\r\u001b[K     |█████████                       | 378kB 13.4MB/s eta 0:00:01\r\u001b[K     |█████████▏                      | 389kB 13.4MB/s eta 0:00:01\r\u001b[K     |█████████▌                      | 399kB 13.4MB/s eta 0:00:01\r\u001b[K     |█████████▊                      | 409kB 13.4MB/s eta 0:00:01\r\u001b[K     |██████████                      | 419kB 13.4MB/s eta 0:00:01\r\u001b[K     |██████████▏                     | 430kB 13.4MB/s eta 0:00:01\r\u001b[K     |██████████▍                     | 440kB 13.4MB/s eta 0:00:01\r\u001b[K     |██████████▋                     | 450kB 13.4MB/s eta 0:00:01\r\u001b[K     |███████████                     | 460kB 13.4MB/s eta 0:00:01\r\u001b[K     |███████████▏                    | 471kB 13.4MB/s eta 0:00:01\r\u001b[K     |███████████▍                    | 481kB 13.4MB/s eta 0:00:01\r\u001b[K     |███████████▋                    | 491kB 13.4MB/s eta 0:00:01\r\u001b[K     |███████████▉                    | 501kB 13.4MB/s eta 0:00:01\r\u001b[K     |████████████▏                   | 512kB 13.4MB/s eta 0:00:01\r\u001b[K     |████████████▍                   | 522kB 13.4MB/s eta 0:00:01\r\u001b[K     |████████████▋                   | 532kB 13.4MB/s eta 0:00:01\r\u001b[K     |████████████▉                   | 542kB 13.4MB/s eta 0:00:01\r\u001b[K     |█████████████                   | 552kB 13.4MB/s eta 0:00:01\r\u001b[K     |█████████████▎                  | 563kB 13.4MB/s eta 0:00:01\r\u001b[K     |█████████████▋                  | 573kB 13.4MB/s eta 0:00:01\r\u001b[K     |█████████████▉                  | 583kB 13.4MB/s eta 0:00:01\r\u001b[K     |██████████████                  | 593kB 13.4MB/s eta 0:00:01\r\u001b[K     |██████████████▎                 | 604kB 13.4MB/s eta 0:00:01\r\u001b[K     |██████████████▌                 | 614kB 13.4MB/s eta 0:00:01\r\u001b[K     |██████████████▉                 | 624kB 13.4MB/s eta 0:00:01\r\u001b[K     |███████████████                 | 634kB 13.4MB/s eta 0:00:01\r\u001b[K     |███████████████▎                | 645kB 13.4MB/s eta 0:00:01\r\u001b[K     |███████████████▌                | 655kB 13.4MB/s eta 0:00:01\r\u001b[K     |███████████████▊                | 665kB 13.4MB/s eta 0:00:01\r\u001b[K     |████████████████                | 675kB 13.4MB/s eta 0:00:01\r\u001b[K     |████████████████▎               | 686kB 13.4MB/s eta 0:00:01\r\u001b[K     |████████████████▌               | 696kB 13.4MB/s eta 0:00:01\r\u001b[K     |████████████████▊               | 706kB 13.4MB/s eta 0:00:01\r\u001b[K     |█████████████████               | 716kB 13.4MB/s eta 0:00:01\r\u001b[K     |█████████████████▏              | 727kB 13.4MB/s eta 0:00:01\r\u001b[K     |█████████████████▌              | 737kB 13.4MB/s eta 0:00:01\r\u001b[K     |█████████████████▊              | 747kB 13.4MB/s eta 0:00:01\r\u001b[K     |██████████████████              | 757kB 13.4MB/s eta 0:00:01\r\u001b[K     |██████████████████▏             | 768kB 13.4MB/s eta 0:00:01\r\u001b[K     |██████████████████▍             | 778kB 13.4MB/s eta 0:00:01\r\u001b[K     |██████████████████▋             | 788kB 13.4MB/s eta 0:00:01\r\u001b[K     |███████████████████             | 798kB 13.4MB/s eta 0:00:01\r\u001b[K     |███████████████████▏            | 808kB 13.4MB/s eta 0:00:01\r\u001b[K     |███████████████████▍            | 819kB 13.4MB/s eta 0:00:01\r\u001b[K     |███████████████████▋            | 829kB 13.4MB/s eta 0:00:01\r\u001b[K     |███████████████████▉            | 839kB 13.4MB/s eta 0:00:01\r\u001b[K     |████████████████████▏           | 849kB 13.4MB/s eta 0:00:01\r\u001b[K     |████████████████████▍           | 860kB 13.4MB/s eta 0:00:01\r\u001b[K     |████████████████████▋           | 870kB 13.4MB/s eta 0:00:01\r\u001b[K     |████████████████████▉           | 880kB 13.4MB/s eta 0:00:01\r\u001b[K     |█████████████████████           | 890kB 13.4MB/s eta 0:00:01\r\u001b[K     |█████████████████████▎          | 901kB 13.4MB/s eta 0:00:01\r\u001b[K     |█████████████████████▋          | 911kB 13.4MB/s eta 0:00:01\r\u001b[K     |█████████████████████▉          | 921kB 13.4MB/s eta 0:00:01\r\u001b[K     |██████████████████████          | 931kB 13.4MB/s eta 0:00:01\r\u001b[K     |██████████████████████▎         | 942kB 13.4MB/s eta 0:00:01\r\u001b[K     |██████████████████████▌         | 952kB 13.4MB/s eta 0:00:01\r\u001b[K     |██████████████████████▊         | 962kB 13.4MB/s eta 0:00:01\r\u001b[K     |███████████████████████         | 972kB 13.4MB/s eta 0:00:01\r\u001b[K     |███████████████████████▎        | 983kB 13.4MB/s eta 0:00:01\r\u001b[K     |███████████████████████▌        | 993kB 13.4MB/s eta 0:00:01\r\u001b[K     |███████████████████████▊        | 1.0MB 13.4MB/s eta 0:00:01\r\u001b[K     |████████████████████████        | 1.0MB 13.4MB/s eta 0:00:01\r\u001b[K     |████████████████████████▎       | 1.0MB 13.4MB/s eta 0:00:01\r\u001b[K     |████████████████████████▌       | 1.0MB 13.4MB/s eta 0:00:01\r\u001b[K     |████████████████████████▊       | 1.0MB 13.4MB/s eta 0:00:01\r\u001b[K     |█████████████████████████       | 1.1MB 13.4MB/s eta 0:00:01\r\u001b[K     |█████████████████████████▏      | 1.1MB 13.4MB/s eta 0:00:01\r\u001b[K     |█████████████████████████▍      | 1.1MB 13.4MB/s eta 0:00:01\r\u001b[K     |█████████████████████████▊      | 1.1MB 13.4MB/s eta 0:00:01\r\u001b[K     |██████████████████████████      | 1.1MB 13.4MB/s eta 0:00:01\r\u001b[K     |██████████████████████████▏     | 1.1MB 13.4MB/s eta 0:00:01\r\u001b[K     |██████████████████████████▍     | 1.1MB 13.4MB/s eta 0:00:01\r\u001b[K     |██████████████████████████▋     | 1.1MB 13.4MB/s eta 0:00:01\r\u001b[K     |███████████████████████████     | 1.1MB 13.4MB/s eta 0:00:01\r\u001b[K     |███████████████████████████▏    | 1.1MB 13.4MB/s eta 0:00:01\r\u001b[K     |███████████████████████████▍    | 1.2MB 13.4MB/s eta 0:00:01\r\u001b[K     |███████████████████████████▋    | 1.2MB 13.4MB/s eta 0:00:01\r\u001b[K     |███████████████████████████▉    | 1.2MB 13.4MB/s eta 0:00:01\r\u001b[K     |████████████████████████████    | 1.2MB 13.4MB/s eta 0:00:01\r\u001b[K     |████████████████████████████▍   | 1.2MB 13.4MB/s eta 0:00:01\r\u001b[K     |████████████████████████████▋   | 1.2MB 13.4MB/s eta 0:00:01\r\u001b[K     |████████████████████████████▉   | 1.2MB 13.4MB/s eta 0:00:01\r\u001b[K     |█████████████████████████████   | 1.2MB 13.4MB/s eta 0:00:01\r\u001b[K     |█████████████████████████████▎  | 1.2MB 13.4MB/s eta 0:00:01\r\u001b[K     |█████████████████████████████▋  | 1.2MB 13.4MB/s eta 0:00:01\r\u001b[K     |█████████████████████████████▉  | 1.3MB 13.4MB/s eta 0:00:01\r\u001b[K     |██████████████████████████████  | 1.3MB 13.4MB/s eta 0:00:01\r\u001b[K     |██████████████████████████████▎ | 1.3MB 13.4MB/s eta 0:00:01\r\u001b[K     |██████████████████████████████▌ | 1.3MB 13.4MB/s eta 0:00:01\r\u001b[K     |██████████████████████████████▊ | 1.3MB 13.4MB/s eta 0:00:01\r\u001b[K     |███████████████████████████████ | 1.3MB 13.4MB/s eta 0:00:01\r\u001b[K     |███████████████████████████████▎| 1.3MB 13.4MB/s eta 0:00:01\r\u001b[K     |███████████████████████████████▌| 1.3MB 13.4MB/s eta 0:00:01\r\u001b[K     |███████████████████████████████▊| 1.3MB 13.4MB/s eta 0:00:01\r\u001b[K     |████████████████████████████████| 1.4MB 13.4MB/s eta 0:00:01\r\u001b[K     |████████████████████████████████| 1.4MB 13.4MB/s \n",
            "\u001b[?25hRequirement already satisfied: dataclasses; python_version < \"3.7\" in /usr/local/lib/python3.6/dist-packages (from transformers) (0.8)\n",
            "Requirement already satisfied: requests in /usr/local/lib/python3.6/dist-packages (from transformers) (2.23.0)\n",
            "Requirement already satisfied: packaging in /usr/local/lib/python3.6/dist-packages (from transformers) (20.7)\n",
            "Requirement already satisfied: tqdm>=4.27 in /usr/local/lib/python3.6/dist-packages (from transformers) (4.41.1)\n",
            "Collecting tokenizers==0.9.4\n",
            "\u001b[?25l  Downloading https://files.pythonhosted.org/packages/0f/1c/e789a8b12e28be5bc1ce2156cf87cb522b379be9cadc7ad8091a4cc107c4/tokenizers-0.9.4-cp36-cp36m-manylinux2010_x86_64.whl (2.9MB)\n",
            "\u001b[K     |████████████████████████████████| 2.9MB 53.4MB/s \n",
            "\u001b[?25hRequirement already satisfied: numpy in /usr/local/lib/python3.6/dist-packages (from transformers) (1.18.5)\n",
            "Requirement already satisfied: filelock in /usr/local/lib/python3.6/dist-packages (from transformers) (3.0.12)\n",
            "Collecting sacremoses\n",
            "\u001b[?25l  Downloading https://files.pythonhosted.org/packages/7d/34/09d19aff26edcc8eb2a01bed8e98f13a1537005d31e95233fd48216eed10/sacremoses-0.0.43.tar.gz (883kB)\n",
            "\u001b[K     |████████████████████████████████| 890kB 51.3MB/s \n",
            "\u001b[?25hRequirement already satisfied: regex!=2019.12.17 in /usr/local/lib/python3.6/dist-packages (from transformers) (2019.12.20)\n",
            "Requirement already satisfied: idna<3,>=2.5 in /usr/local/lib/python3.6/dist-packages (from requests->transformers) (2.10)\n",
            "Requirement already satisfied: urllib3!=1.25.0,!=1.25.1,<1.26,>=1.21.1 in /usr/local/lib/python3.6/dist-packages (from requests->transformers) (1.24.3)\n",
            "Requirement already satisfied: chardet<4,>=3.0.2 in /usr/local/lib/python3.6/dist-packages (from requests->transformers) (3.0.4)\n",
            "Requirement already satisfied: certifi>=2017.4.17 in /usr/local/lib/python3.6/dist-packages (from requests->transformers) (2020.12.5)\n",
            "Requirement already satisfied: pyparsing>=2.0.2 in /usr/local/lib/python3.6/dist-packages (from packaging->transformers) (2.4.7)\n",
            "Requirement already satisfied: six in /usr/local/lib/python3.6/dist-packages (from sacremoses->transformers) (1.15.0)\n",
            "Requirement already satisfied: click in /usr/local/lib/python3.6/dist-packages (from sacremoses->transformers) (7.1.2)\n",
            "Requirement already satisfied: joblib in /usr/local/lib/python3.6/dist-packages (from sacremoses->transformers) (0.17.0)\n",
            "Building wheels for collected packages: sacremoses\n",
            "  Building wheel for sacremoses (setup.py) ... \u001b[?25l\u001b[?25hdone\n",
            "  Created wheel for sacremoses: filename=sacremoses-0.0.43-cp36-none-any.whl size=893261 sha256=0553e11516cf746063aed240f09f12722215c0fedcf72a12fd85bd06f08a0649\n",
            "  Stored in directory: /root/.cache/pip/wheels/29/3c/fd/7ce5c3f0666dab31a50123635e6fb5e19ceb42ce38d4e58f45\n",
            "Successfully built sacremoses\n",
            "Installing collected packages: tokenizers, sacremoses, transformers\n",
            "Successfully installed sacremoses-0.0.43 tokenizers-0.9.4 transformers-4.0.1\n"
          ],
          "name": "stdout"
        }
      ]
    },
    {
      "cell_type": "markdown",
      "metadata": {
        "id": "qzgCrnTGzNYv"
      },
      "source": [
        "## Helper Functions"
      ]
    },
    {
      "cell_type": "code",
      "metadata": {
        "id": "4tv9jG1yzT5m"
      },
      "source": [
        "SEED = 0\n",
        "DEVICE = 'cuda' if torch.cuda.is_available else 'cpu'\n",
        "\n",
        "def set_seed(seed):\n",
        "    torch.manual_seed(seed)\n",
        "    np.random.seed(seed)\n",
        "    random.seed(seed)\n",
        "    if torch.cuda.is_available():\n",
        "        torch.cuda.manual_seed_all(seed)\n",
        "\n",
        "\n",
        "def select_field(feature_list, field_name):\n",
        "    return [\n",
        "        [choice[field_name] for choice in feature.choices_features]\n",
        "        for feature in feature_list\n",
        "    ]\n",
        "\n",
        "\n",
        "def load_model(model='all'):\n",
        "    if model == 'bert':\n",
        "        return BertConfig, BertForSequenceClassification, BertTokenizer\n",
        "    elif model == 'xlnet':\n",
        "        return XLNetConfig, XLNetForSequenceClassification, XLNetTokenizer\n",
        "    elif model == 'roberta':\n",
        "        return RobertaConfig, RobertaForSequenceClassification, RobertaTokenizer\n",
        "    elif model == 'gpt2':\n",
        "        raise NotImplemented\n",
        "        # return GPT2Config, AutoModelForQuestionAnswering, GPT2Tokenizer\n",
        "    raise NotImplemented\n",
        "\n",
        "\n",
        "def load_optimizer(args, model, train_size, learning_rate):\n",
        "    num_training_steps = train_size * args.num_train_epochs\n",
        "    no_decay = ['bias', 'LayerNorm.weight']\n",
        "    optimizer_grouped_parameters = [\n",
        "        {'params': [p for n, p in model.named_parameters()\n",
        "                    if not any(nd in n for nd in no_decay)],\n",
        "         'weight_decay': args.weight_decay},\n",
        "        {'params': [p for n, p in model.named_parameters()\n",
        "                    if any(nd in n for nd in no_decay)],\n",
        "         'weight_decay': 0.0}\n",
        "    ]\n",
        "\n",
        "    optimizer = AdamW(\n",
        "        optimizer_grouped_parameters, lr=learning_rate, eps=args.adam_epsilon)\n",
        "    scheduler = get_linear_schedule_with_warmup(\n",
        "        optimizer, num_warmup_steps=args.warmup_steps, num_training_steps=num_training_steps)\n",
        "\n",
        "    return model, optimizer, scheduler\n",
        "\n",
        "\n",
        "def freeze(model, model_name):\n",
        "    if model_name == 'bert':\n",
        "        for param in model.bert.parameters():\n",
        "            param.requires_grad = False\n",
        "    elif model_name == 'xlnet':\n",
        "        for param in model.xlnet.parameters():\n",
        "            param.requires_grad = False\n",
        "    elif model_name == 'roberta':\n",
        "        for param in model.roberta.parameters():\n",
        "            param.requires_grad = False\n",
        "    elif model_name == 'gpt2':\n",
        "        for param in model.gpt2.parameters():\n",
        "            param.requires_grad = False\n",
        "    return model\n",
        "\n",
        "\n",
        "def get_accuracy(preds, labels, lengths=None, inspect=60):\n",
        "    if inspect:\n",
        "        print('\\nThe first {} predictions'.format(inspect), preds[0:inspect])\n",
        "    if lengths is None:\n",
        "        return (preds == labels).mean()\n",
        "\n",
        "    i, correct = 0, 0\n",
        "    for n in lengths:\n",
        "        pred, label = 1, 1\n",
        "        for p in preds[i:i + n]:\n",
        "            pred *= p\n",
        "        for l in labels[i:i + n]:\n",
        "            label *= l\n",
        "        if pred == label:\n",
        "            correct += 1\n",
        "        i += n\n",
        "    return correct / len(lengths)"
      ],
      "execution_count": null,
      "outputs": []
    },
    {
      "cell_type": "markdown",
      "metadata": {
        "id": "tABNFRGMKz6Y"
      },
      "source": [
        "# Benchmark"
      ]
    },
    {
      "cell_type": "markdown",
      "metadata": {
        "id": "-ofGNJGHKOK7"
      },
      "source": [
        "## Task Dataset\n",
        "\n",
        "EAT (Everyday Actions in Text) is from the SLED (Situated Language and Embodied Dialogue) group created by Shane Storks. The dataset is in the form of a story of 5 sequential events represented by natural language texts $\\{t_1,t_2,\\cdots,t_5\\}$ respectively. The model aims to identify whether the story is plausible using common sense reasoning and specify at which event the story becomes implausible, if any. Such plausible inference requires the model to have a strong background knowledge and a comprehensive ability to perform common sense reasoning and causal reasoning, since whether an event is plausible in the story is high dependent on the previous events."
      ]
    },
    {
      "cell_type": "code",
      "metadata": {
        "id": "4hOJK9v-KQo2"
      },
      "source": [
        "def load_data(dataset='commonsense_qa', preview=-1):\n",
        "\n",
        "    assert dataset in {'commonsense_qa', 'conv_entail', 'eat'}\n",
        "\n",
        "    if dataset == 'commonsense_qa':\n",
        "        ds = load_dataset('commonsense_qa')\n",
        "\n",
        "        if preview > 0:\n",
        "            print('\\nLoading an example...')\n",
        "            data_tr = ds.data['train']\n",
        "            question = data_tr['question']\n",
        "            choices = data_tr['choices']\n",
        "            answerKey = data_tr['answerKey']\n",
        "            print(question[preview])\n",
        "            for label, text in zip(choices[preview]['label'], choices[preview]['text']):\n",
        "                print(label, text)\n",
        "            print('Ans:', answerKey[preview])\n",
        "\n",
        "    elif dataset == 'conv_entail':\n",
        "        dev_file = '/content/drive/Shareddrives/EECS595-Fall2020/Final_Project_Common/Conversational_Entailment/dev_set.json'\n",
        "        act_file = '/content/drive/Shareddrives/EECS595-Fall2020/Final_Project_Common/Conversational_Entailment/act_tag.json'\n",
        "        test_file = '/content/drive/Shareddrives/EECS595-Fall2020/Final_Project_Common/Conversational_Entailment/test_set_unlabeled.json'\n",
        "        dev_set = codecs.open(dev_file, 'r', encoding='utf-8').read()\n",
        "        test_data = codecs.open(test_file, 'r', encoding='utf-8').read()\n",
        "        ds = json.loads(dev_set), json.loads(test_data)\n",
        "\n",
        "        if preview > 0:\n",
        "            print(ds[0][preview])\n",
        "\n",
        "    else:\n",
        "        file_name = '/content/drive/Shareddrives/EECS595-Fall2020/Final_Project_Common/EAT/eat_train.json'\n",
        "        eat = codecs.open(file_name, 'r', encoding='utf-8').read()\n",
        "        ds = json.loads(eat)\n",
        "\n",
        "        if preview > 0:\n",
        "            print('\\nLoading an example...')\n",
        "            story = ds[preview]['story']\n",
        "            label = ds[preview]['label']\n",
        "            bp = ds[preview]['breakpoint']\n",
        "            for line in story:\n",
        "                print(line)\n",
        "            print(label)\n",
        "            print(bp)\n",
        "\n",
        "    return ds\n",
        "\n",
        "\n",
        "def load_data_frame(preview=True):\n",
        "    \n",
        "    file_name = '/content/drive/Shareddrives/EECS595-Fall2020/Final_Project_Common/EAT/eat_train.json'\n",
        "    df = pd.read_json(file_name)\n",
        "    \n",
        "    if preview:\n",
        "        print(df.head())\n",
        "        print(len(df))\n",
        "\n",
        "    return df"
      ],
      "execution_count": null,
      "outputs": []
    },
    {
      "cell_type": "markdown",
      "metadata": {
        "id": "mRiu77jjKfoH"
      },
      "source": [
        "Run the following code to preview the dataset:"
      ]
    },
    {
      "cell_type": "code",
      "metadata": {
        "id": "-Er-oLRB6dmw",
        "colab": {
          "base_uri": "https://localhost:8080/"
        },
        "outputId": "a1303c71-56dc-45b1-9ea2-fac3973bf7dd"
      },
      "source": [
        "ds = load_data(dataset='conv_entail', preview=5)\n",
        "print('\\nDataset size:', len(ds[1]))"
      ],
      "execution_count": null,
      "outputs": [
        {
          "output_type": "stream",
          "text": [
            "{'id': 831, 'entailment': '1', 'type': 'belief', 'tag': 'pair', 'items': [{'source': 'SW2020', 'tag': 'dialog', 'items': [{'num': '12', 'speaker': 'B', 'text': \"Uh, uh, however, I, I do, I do like a lot of different forms of music so I switch quite often.  Um, I think I like, I, I'm really particular about the type of music that I listen to.\", 'tag': 'turn'}, {'num': '13', 'speaker': 'A', 'text': 'Uh-huh.', 'tag': 'turn'}, {'num': '14', 'speaker': 'B', 'text': \"But, the, uh, there's such a wide selection, I think I like a lot, I like a little bit of a lot of different types of music.  You know, I, I, I like music that is, that I feel if it is performed correctly or if it's done right, or if the version is done right, I like it [laughter],\", 'tag': 'turn'}]}, {'text': 'SpeakerB likes music that is performed correctly', 'tag': 'h'}]}\n",
            "\n",
            "Dataset size: 355\n"
          ],
          "name": "stdout"
        }
      ]
    },
    {
      "cell_type": "code",
      "metadata": {
        "colab": {
          "base_uri": "https://localhost:8080/"
        },
        "id": "8WPeT4QuZKIk",
        "outputId": "520b9f1b-bdf2-4585-8cdd-498675fbc9ea"
      },
      "source": [
        "def formulate_conv_entail(data):\n",
        "  premises, hypotheses, labels = [], [], []\n",
        "\n",
        "  # change speakerA to Tom, speakerB to Bob to prevent problems in tokenizing\n",
        "  # change I, you to corresponding speaker\n",
        "  for index, row in enumerate(data):\n",
        "    premise = \"\"\n",
        "    for conversation in row[\"items\"][0][\"items\"]:\n",
        "      speaker = \"Tom\" if conversation[\"speaker\"] == \"A\" else \"Bob\"\n",
        "      another_speaker = \"Bob\" if conversation[\"speaker\"] == \"A\" else \"Tom\"\n",
        "      premise += \" \" + conversation[\"text\"].replace('I ', speaker+\" \").replace('#', '').replace(\"I,\", speaker+\",\").replace(\"you \", another_speaker+\" \").replace(\"you,\", another_speaker+\",\")\n",
        "    hypothesis = row[\"items\"][1][\"text\"].replace(\"SpeakerA\", \"Tom\").replace(\"SpeakerB\", \"Bob\").replace('#', '')\n",
        "    premises.append(premise)\n",
        "    hypotheses.append(hypothesis)\n",
        "    labels.append(int(row['entailment']))\n",
        "\n",
        "  return premises, hypotheses, labels\n",
        "\n",
        "\n",
        "premises, hypotheses, labels = formulate_conv_entail(ds[0])\n",
        "\n",
        "print(\"Preview of the data: \")\n",
        "print(\"Premise:\", premises[0])\n",
        "print(\"Hypothesis:\", hypotheses[0])\n",
        "print(\"Label:\", labels[0])\n",
        "\n",
        "def get_conv_detail_testdata(data):\n",
        "  premises, hypotheses = [], []\n",
        "\n",
        "  # change speakerA to Tom, speakerB to Bob to prevent problems in tokenizing\n",
        "  # change I, you to corresponding speaker\n",
        "  for index, row in enumerate(data):\n",
        "    premise = \"\"\n",
        "    for conversation in row[\"items\"][0][\"items\"]:\n",
        "      speaker = \"Tom\" if conversation[\"speaker\"] == \"A\" else \"Bob\"\n",
        "      another_speaker = \"Bob\" if conversation[\"speaker\"] == \"A\" else \"Tom\"\n",
        "      premise += \" \" + conversation[\"text\"].replace('I ', speaker+\" \").replace('#', '').replace(\"I,\", speaker+\",\").replace(\"you \", another_speaker+\" \").replace(\"you,\", another_speaker+\",\")\n",
        "    hypothesis = row[\"items\"][1][\"text\"].replace(\"SpeakerA\", \"Tom\").replace(\"SpeakerB\", \"Bob\").replace('#', '')\n",
        "    premises.append(premise)\n",
        "    hypotheses.append(hypothesis)\n",
        "\n",
        "  return premises, hypotheses\n"
      ],
      "execution_count": null,
      "outputs": [
        {
          "output_type": "stream",
          "text": [
            "Preview of the data: \n",
            "Premise:  Um, mostly what Bob do, Bob do do some crafts like it mentioned in the thing, and then Bob, Bob read a lot.\n",
            "Hypothesis: Bob likes to read\n",
            "Label: 1\n"
          ],
          "name": "stdout"
        }
      ]
    },
    {
      "cell_type": "code",
      "metadata": {
        "colab": {
          "base_uri": "https://localhost:8080/"
        },
        "id": "z1xpXY-QttAR",
        "outputId": "b6507add-84cd-4961-d49d-a3c1db2908f4"
      },
      "source": [
        "print(\"Preview of the data: \")\n",
        "print(\"Premise:\", premises[301])\n",
        "print(\"Hypothesis:\", hypotheses[301])\n",
        "print(\"Label:\", labels[301])\n"
      ],
      "execution_count": null,
      "outputs": [
        {
          "output_type": "stream",
          "text": [
            "Preview of the data: \n",
            "Premise:  And, uh, it was about, the, the piece of music, the piece of music was about, Bob think about forty or fifty years old.  And, it was incredible, Bob mean, the parallel, Tom know, between it and rap. Right. And, um, Tom, Tom listen a lot, if Tom, if Tom hear a lot of old gospel, uh, uh, especially well, the black gospel.  You know, Tom will, Tom know, Tom can really pick it up.  Bob mean,\n",
            "Hypothesis: Tom thinks that Bob listens to a lot of black gospel\n",
            "Label: 0\n"
          ],
          "name": "stdout"
        }
      ]
    },
    {
      "cell_type": "markdown",
      "metadata": {
        "id": "C0Vq_hBp7PNB"
      },
      "source": [
        "Get the length of all the messages in the train set to choose appropriate a padding length."
      ]
    },
    {
      "cell_type": "code",
      "metadata": {
        "colab": {
          "base_uri": "https://localhost:8080/",
          "height": 282
        },
        "id": "HMBZjpF27Jyg",
        "outputId": "1b605c02-9a14-4155-b708-b5ec68a15bc6"
      },
      "source": [
        "train_text = [premises[i] + ' ' + hypotheses[i] for i in range(len(premises))]\n",
        "seq_len = [len(i.split()) for i in train_text]\n",
        "pd.Series(seq_len).hist(bins = 30)"
      ],
      "execution_count": null,
      "outputs": [
        {
          "output_type": "execute_result",
          "data": {
            "text/plain": [
              "<matplotlib.axes._subplots.AxesSubplot at 0x7f68fa651f60>"
            ]
          },
          "metadata": {
            "tags": []
          },
          "execution_count": 13
        },
        {
          "output_type": "display_data",
          "data": {
            "image/png": "[encoded data removed]",
            "text/plain": [
              "<Figure size 432x288 with 1 Axes>"
            ]
          },
          "metadata": {
            "tags": [],
            "needs_background": "light"
          }
        }
      ]
    },
    {
      "cell_type": "markdown",
      "metadata": {
        "id": "rIxGTEYezc1L"
      },
      "source": [
        "### Data Preprocessing"
      ]
    },
    {
      "cell_type": "code",
      "metadata": {
        "id": "HS5CDydVzfAB"
      },
      "source": [
        "MAXLENGTH = 200\n",
        "\n",
        "class ConvEntailProcessor():\n",
        "    def __init__(self, tokenizer, args=None):\n",
        "\n",
        "        test_size = 0.15\n",
        "        if args is not None:\n",
        "            test_size = args.test_size\n",
        "\n",
        "        self.tokenizer = tokenizer\n",
        "        self.double_sep = 'roberta' in tokenizer.name_or_path\n",
        "        self.cls_token = tokenizer.cls_token\n",
        "        self.sep_token = tokenizer.sep_token\n",
        "\n",
        "        all_premises, all_hypotheses, all_labels = formulate_conv_entail(load_data(dataset='conv_entail')[0])\n",
        "        self.train_premises, self.val_premises, self.train_hypotheses, self.val_hypotheses, \\\n",
        "        self.train_labels, self.val_labels = train_test_split(all_premises, all_hypotheses, \n",
        "                                                               all_labels, random_state=SEED, test_size=test_size)\n",
        "        self.test_premises, self.test_hypotheses = get_conv_detail_testdata(load_data(dataset='conv_entail')[1])\n",
        "        \n",
        "    def truncate_seq_pair(self, token_a, token_b, max_len=MAXLENGTH-3):\n",
        "        \"\"\"\n",
        "        Truncates a sequence pair in place to the maximum length.\n",
        "\n",
        "        This is a simple heuristic which will always truncate the longer sequence one token at a time.\n",
        "        This makes more sense than truncating an equal percent of tokens from each,\n",
        "        since if one sequence is very short then each token that's truncated\n",
        "        likely contains more information than a longer sequence.\n",
        "\n",
        "        However, since we'd better not to remove tokens of options and questions,\n",
        "        you can choose to use a bigger length or only pop from context\n",
        "        \"\"\"\n",
        "\n",
        "        while True:\n",
        "            total_length = len(token_a) + len(token_b)\n",
        "            if total_length <= max_len:\n",
        "                break\n",
        "            if len(token_a) > len(token_b):\n",
        "                token_a.pop()\n",
        "            else:\n",
        "                warning = 'Attention! you are removing from token_b (swag task is ok). ' \\\n",
        "                          'If you are training ARC and RACE (you are popping question + options), ' \\\n",
        "                          'you need to try to use a bigger max seq length!'\n",
        "                print(warning)\n",
        "                token_b.pop()\n",
        "\n",
        "    def tokenize_and_encode(self, prev, next, max_len=MAXLENGTH):\n",
        "        \"\"\"\n",
        "        Tokenize all of the sentences and map the tokens to their word IDs.\n",
        "        Max is 512 if using BERT-based models, higher for longformer (2000+)\n",
        "        \"\"\"\n",
        "\n",
        "        num_seps = 1\n",
        "        extra_tokens = 3\n",
        "        if self.double_sep:\n",
        "            num_seps += 1\n",
        "            extra_tokens += 1\n",
        "\n",
        "        token_a = self.tokenizer.tokenize(prev)\n",
        "        token_b = self.tokenizer.tokenize(next)\n",
        "        self.truncate_seq_pair(token_a, token_b, max_len-extra_tokens)\n",
        "\n",
        "        token_a = [self.cls_token] + token_a + ([self.sep_token] * num_seps)\n",
        "        token_type_ids = [0] * len(token_a)\n",
        "        token_b = token_b + [self.sep_token]\n",
        "        token_type_ids += [1] * len(token_b)\n",
        "        tokens = token_a + token_b\n",
        "\n",
        "        input_ids = self.tokenizer.convert_tokens_to_ids(tokens)\n",
        "        mask = [1] * len(input_ids)\n",
        "\n",
        "        padding_length = max_len - len(input_ids)\n",
        "        input_ids += ([0] * padding_length)\n",
        "        mask += ([0] * padding_length)\n",
        "        token_type_ids += ([0] * padding_length)\n",
        "\n",
        "        assert len(input_ids) == max_len\n",
        "        assert len(token_type_ids) == max_len\n",
        "        assert len(mask) == max_len\n",
        "            \n",
        "        return input_ids, token_type_ids, mask\n",
        "\n",
        "    def load_features(self, split='train'):\n",
        "\n",
        "        if split == 'train':\n",
        "            pre, hypo, labels = self.train_premises, self.train_hypotheses, self.train_labels\n",
        "        elif split == 'val':\n",
        "            pre, hypo, labels = self.val_premises, self.val_hypotheses, self.val_labels\n",
        "        else:\n",
        "            pre, hypo = self.test_premises, self.test_hypotheses\n",
        "            seqs, segs, masks, lengths = [], [], [], []\n",
        "            for prev, next in zip(pre, hypo):\n",
        "              seq, seg, mask = self.tokenize_and_encode(prev, next)\n",
        "              seqs.append(seq)\n",
        "              segs.append(seg)\n",
        "              masks.append(mask)\n",
        "\n",
        "            seqs = torch.tensor(seqs)\n",
        "            segs = torch.tensor(segs)\n",
        "            masks = torch.tensor(masks)\n",
        "\n",
        "            dataset = TensorDataset(seqs, masks, segs)\n",
        "            return dataset, lengths\n",
        "            \n",
        "\n",
        "        seqs, segs, masks, lengths = [], [], [], []\n",
        "        for prev, next in zip(pre, hypo):\n",
        "          seq, seg, mask = self.tokenize_and_encode(prev, next)\n",
        "          seqs.append(seq)\n",
        "          segs.append(seg)\n",
        "          masks.append(mask)\n",
        "\n",
        "        labels = torch.tensor(labels)\n",
        "        seqs = torch.tensor(seqs)\n",
        "        segs = torch.tensor(segs)\n",
        "        masks = torch.tensor(masks)\n",
        "\n",
        "        dataset = TensorDataset(seqs, masks, segs, labels)\n",
        "\n",
        "        return dataset, lengths"
      ],
      "execution_count": null,
      "outputs": []
    },
    {
      "cell_type": "markdown",
      "metadata": {
        "id": "gy237KUt4bfZ"
      },
      "source": [
        "## Knowledge Dataset\n",
        "\n",
        "PIQA\n"
      ]
    },
    {
      "cell_type": "code",
      "metadata": {
        "colab": {
          "base_uri": "https://localhost:8080/"
        },
        "id": "ApoNGj8A4gYY",
        "outputId": "cd30dde1-cb2a-4b25-9c32-c8b7a318d828"
      },
      "source": [
        "!wget https://storage.googleapis.com/ai2-mosaic/public/physicaliqa/physicaliqa-train-dev.zip\n",
        "!unzip physicaliqa-train-dev.zip"
      ],
      "execution_count": null,
      "outputs": [
        {
          "output_type": "stream",
          "text": [
            "--2020-12-15 07:41:52--  https://storage.googleapis.com/ai2-mosaic/public/physicaliqa/physicaliqa-train-dev.zip\n",
            "Resolving storage.googleapis.com (storage.googleapis.com)... 172.217.2.112, 172.217.164.144, 142.250.73.240, ...\n",
            "Connecting to storage.googleapis.com (storage.googleapis.com)|172.217.2.112|:443... connected.\n",
            "HTTP request sent, awaiting response... 200 OK\n",
            "Length: 1824009 (1.7M) [application/zip]\n",
            "Saving to: ‘physicaliqa-train-dev.zip’\n",
            "\n",
            "\r          physicali   0%[                    ]       0  --.-KB/s               \rphysicaliqa-train-d 100%[===================>]   1.74M  --.-KB/s    in 0.01s   \n",
            "\n",
            "2020-12-15 07:41:52 (179 MB/s) - ‘physicaliqa-train-dev.zip’ saved [1824009/1824009]\n",
            "\n",
            "Archive:  physicaliqa-train-dev.zip\n",
            "   creating: physicaliqa-train-dev/\n",
            "  inflating: physicaliqa-train-dev/train.jsonl  \n",
            "  inflating: physicaliqa-train-dev/.DS_Store  \n",
            "   creating: __MACOSX/\n",
            "   creating: __MACOSX/physicaliqa-train-dev/\n",
            "  inflating: __MACOSX/physicaliqa-train-dev/._.DS_Store  \n",
            "  inflating: physicaliqa-train-dev/train-labels.lst  \n",
            "  inflating: physicaliqa-train-dev/dev-labels.lst  \n",
            "  inflating: physicaliqa-train-dev/dev.jsonl  \n"
          ],
          "name": "stdout"
        }
      ]
    },
    {
      "cell_type": "code",
      "metadata": {
        "id": "ScP8KsAt5Mf0"
      },
      "source": [
        "def load_piqa(preview=False):\n",
        "    \n",
        "    file_name = 'physicaliqa-train-dev/train.jsonl'\n",
        "    df = pd.read_json(path_or_buf=file_name, lines=True)\n",
        "    with open('physicaliqa-train-dev/train-labels.lst') as f:\n",
        "      labels = [int(i) for i in list(f.read().splitlines())]\n",
        "    df['labels'] = labels\n",
        "\n",
        "    if preview:\n",
        "        print(len(df))\n",
        "        row = df.iloc[[preview]]\n",
        "        print(row['goal'])\n",
        "        print(row['sol1'])\n",
        "        print(row['sol2'])\n",
        "        print(row['labels'])\n",
        "    return df"
      ],
      "execution_count": null,
      "outputs": []
    },
    {
      "cell_type": "code",
      "metadata": {
        "id": "RdAjdixUfq9b",
        "colab": {
          "base_uri": "https://localhost:8080/"
        },
        "outputId": "1b3454ab-c24e-4c39-f8e1-b73d1a555417"
      },
      "source": [
        "df = load_piqa(preview=1)"
      ],
      "execution_count": null,
      "outputs": [
        {
          "output_type": "stream",
          "text": [
            "16113\n",
            "1    To permanently attach metal legs to a chair, y...\n",
            "Name: goal, dtype: object\n",
            "1    Weld the metal together to get it to stay firm...\n",
            "Name: sol1, dtype: object\n",
            "1    Nail the metal together to get it to stay firm...\n",
            "Name: sol2, dtype: object\n",
            "1    0\n",
            "Name: labels, dtype: int64\n"
          ],
          "name": "stdout"
        }
      ]
    },
    {
      "cell_type": "markdown",
      "metadata": {
        "id": "oXZR0GqLb0n3"
      },
      "source": [
        "### Data Preprocessing"
      ]
    },
    {
      "cell_type": "code",
      "metadata": {
        "id": "Sxw1c_kc5pWY"
      },
      "source": [
        "class PIQAProcessor():\n",
        "    \"\"\"\n",
        "    Load the processed SWAG dataset\n",
        "    max(size) = 73546\n",
        "    \"\"\"\n",
        "    def __init__(self, tokenizer, args=None):\n",
        "        self.test_size = 0.15\n",
        "        if args is not None:\n",
        "            self.test_size = args.test_size\n",
        "\n",
        "        self.tokenizer = tokenizer\n",
        "        self.double_sep = 'roberta' in tokenizer.name_or_path\n",
        "        self.cls_token = tokenizer.cls_token\n",
        "        self.sep_token = tokenizer.sep_token\n",
        "\n",
        "        self.df = load_piqa()\n",
        "    \n",
        "    def truncate_seq_pair(self, token_a, token_b, max_len=MAXLENGTH-3):\n",
        "        \"\"\"\n",
        "        Truncates a sequence pair in place to the maximum length.\n",
        "\n",
        "        This is a simple heuristic which will always truncate the longer sequence one token at a time.\n",
        "        This makes more sense than truncating an equal percent of tokens from each,\n",
        "        since if one sequence is very short then each token that's truncated\n",
        "        likely contains more information than a longer sequence.\n",
        "\n",
        "        However, since we'd better not to remove tokens of options and questions,\n",
        "        you can choose to use a bigger length or only pop from context\n",
        "        \"\"\"\n",
        "\n",
        "        while True:\n",
        "            total_length = len(token_a) + len(token_b)\n",
        "            if total_length <= max_len:\n",
        "                break\n",
        "            if len(token_a) > len(token_b):\n",
        "                token_a.pop()\n",
        "            else:\n",
        "                warning = 'Attention! you are removing from token_b (swag task is ok). ' \\\n",
        "                          'If you are training ARC and RACE (you are popping question + options), ' \\\n",
        "                          'you need to try to use a bigger max seq length!'\n",
        "                print(warning)\n",
        "                token_b.pop()\n",
        "\n",
        "    def tokenize_and_encode(self, prev, next, max_len=MAXLENGTH):\n",
        "        \"\"\"\n",
        "        Tokenize all of the sentences and map the tokens to their word IDs.\n",
        "        Max is 512 if using BERT-based models, higher for longformer (2000+)\n",
        "        \"\"\"\n",
        "\n",
        "        num_seps = 1\n",
        "        extra_tokens = 3\n",
        "        if self.double_sep:\n",
        "            num_seps += 1\n",
        "            extra_tokens += 1\n",
        "\n",
        "        token_a = self.tokenizer.tokenize(prev)\n",
        "        token_b = self.tokenizer.tokenize(next)\n",
        "        self.truncate_seq_pair(token_a, token_b, max_len-extra_tokens)\n",
        "\n",
        "        token_a = [self.cls_token] + token_a + ([self.sep_token] * num_seps)  \n",
        "        token_type_ids = [0] * len(token_a)\n",
        "        token_b = token_b + [self.sep_token]\n",
        "        token_type_ids += [1] * len(token_b)\n",
        "        tokens = token_a + token_b\n",
        "\n",
        "        input_ids = self.tokenizer.convert_tokens_to_ids(tokens)\n",
        "        mask = [1] * len(input_ids)\n",
        "\n",
        "        padding_length = max_len - len(input_ids)\n",
        "        input_ids += ([0] * padding_length)\n",
        "        mask += ([0] * padding_length)\n",
        "        token_type_ids += ([0] * padding_length)\n",
        "\n",
        "        assert len(input_ids) == max_len\n",
        "        assert len(token_type_ids) == max_len\n",
        "        assert len(mask) == max_len\n",
        "            \n",
        "        return input_ids, token_type_ids, mask\n",
        "\n",
        "    def load_features(self, size=16113):\n",
        "\n",
        "        print(\"Creating features from dataset...\")\n",
        "        labels, seqs, segs, masks = [], [], [], []\n",
        "        for row in df.iterrows():\n",
        "\n",
        "            label = row[1]['labels']\n",
        "            goal = row[1]['goal']\n",
        "            sol1 = row[1]['sol1']\n",
        "            sol2 = row[1]['sol2']\n",
        "\n",
        "            if label == 0:\n",
        "                seq, seg, mask = self.tokenize_and_encode(goal, sol1)\n",
        "                seqs.append(seq)\n",
        "                segs.append(seg)\n",
        "                masks.append(mask)\n",
        "                labels.append(1)\n",
        "\n",
        "                seq, seg, mask = self.tokenize_and_encode(goal, sol2)\n",
        "                seqs.append(seq)\n",
        "                segs.append(seg)\n",
        "                masks.append(mask)\n",
        "                labels.append(0)\n",
        "            else:\n",
        "                seq, seg, mask = self.tokenize_and_encode(goal, sol1)\n",
        "                seqs.append(seq)\n",
        "                segs.append(seg)\n",
        "                masks.append(mask)\n",
        "                labels.append(0)\n",
        "\n",
        "                seq, seg, mask = self.tokenize_and_encode(goal, sol2)\n",
        "                seqs.append(seq)\n",
        "                segs.append(seg)\n",
        "                masks.append(mask)\n",
        "                labels.append(1)\n",
        "                        \n",
        "            size -= 1\n",
        "            if size == 0:\n",
        "                break\n",
        "\n",
        "        train_seq, val_seq, train_seg, val_seg, train_mask, val_mask, train_labels, val_labels = train_test_split(\n",
        "            seqs, segs, masks, labels, random_state=SEED, test_size=self.test_size, stratify=labels)\n",
        "        \n",
        "        train_seq = torch.tensor(train_seq)\n",
        "        val_seq = torch.tensor(val_seq)\n",
        "        train_seg = torch.tensor(train_seg)\n",
        "        val_seg = torch.tensor(val_seg)\n",
        "        train_mask = torch.tensor(train_mask)\n",
        "        val_mask = torch.tensor(val_mask)\n",
        "        train_labels = torch.tensor(train_labels)\n",
        "        train_y = torch.tensor(train_labels)\n",
        "        val_y = torch.tensor(val_labels)\n",
        "\n",
        "        train_data = TensorDataset(train_seq, train_mask, train_seg, train_y)\n",
        "        val_data = TensorDataset(val_seq, val_mask, val_seg, val_y)\n",
        "\n",
        "        return train_data, val_data\n"
      ],
      "execution_count": null,
      "outputs": []
    },
    {
      "cell_type": "markdown",
      "metadata": {
        "id": "92jFJkifK6Cf"
      },
      "source": [
        "# Experiment"
      ]
    },
    {
      "cell_type": "markdown",
      "metadata": {
        "id": "sQ0BLRx-zmep"
      },
      "source": [
        "## Pre-trained Model"
      ]
    },
    {
      "cell_type": "markdown",
      "metadata": {
        "id": "AJKT-_9boL-c"
      },
      "source": [
        "Self-designed model for flexibility."
      ]
    },
    {
      "cell_type": "code",
      "metadata": {
        "id": "Ew2T52OZq0tD"
      },
      "source": [
        "class MyBertClassifier(torch.nn.Module):\n",
        "\n",
        "    def __init__(self, model_name='bert-base-uncased', num_labels=1, dropout_rate=0.2, freeze=False):\n",
        "        super(MyBertClassifier, self).__init__()\n",
        "        \n",
        "        if num_labels == 1:\n",
        "            self.loss_fct = torch.nn.BCEWithLogitsLoss()\n",
        "        else:\n",
        "            self.loss_fct = torch.nn.CrossEntropyLoss()\n",
        "        self.bert = BertModel.from_pretrained(model_name)\n",
        "        self.d1 = torch.nn.Dropout(dropout_rate)\n",
        "        self.l1 = torch.nn.Linear(self.num_embed(model_name), 64)\n",
        "        self.bn1 = torch.nn.LayerNorm(64)\n",
        "        self.d2 = torch.nn.Dropout(dropout_rate)\n",
        "        self.l2 = torch.nn.Linear(64, num_labels)\n",
        "\n",
        "        if freeze:\n",
        "            for param in self.bert.parameters():\n",
        "                param.requires_grad = False\n",
        "\n",
        "    def num_embed(self, model_name):\n",
        "        embedding_size = {\n",
        "            'bert-base-uncased': 768,\n",
        "            'bert-large-uncased': 1024\n",
        "        }\n",
        "        return embedding_size[model_name]\n",
        "\n",
        "    def forward(self, input_ids, attention_mask, token_type_ids, labels=None):\n",
        "\n",
        "        out = self.bert(input_ids=input_ids, \n",
        "                        attention_mask=attention_mask, \n",
        "                        token_type_ids=token_type_ids)\n",
        "        x = out.pooler_output\n",
        "        x = self.d1(x)\n",
        "        x = self.l1(x)\n",
        "        x = self.bn1(x)\n",
        "        x = torch.nn.Tanh()(x)\n",
        "        x = self.d2(x)\n",
        "        x = self.l2(x)\n",
        "\n",
        "        loss = None\n",
        "        if labels is not None:\n",
        "            # x = np.argmax(x, axis=1)\n",
        "            loss = self.loss_fct(x.flatten(), labels.float())\n",
        "        \n",
        "        return loss, x\n",
        "\n",
        "\n",
        "class MyRobertaClassifier(torch.nn.Module):\n",
        "\n",
        "    def __init__(self, model_name='roberta-base', num_labels=2, dropout_rate=0.2, freeze=False):\n",
        "        super(MyRobertaClassifier, self).__init__()\n",
        "        \n",
        "        if num_labels == 1:\n",
        "            self.loss_fct = torch.nn.BCEWithLogitsLoss()\n",
        "        else:\n",
        "            self.loss_fct = torch.nn.CrossEntropyLoss(torch.tensor([0.5,0.5],dtype=torch.float).to(DEVICE))\n",
        "        self.roberta = RobertaModel.from_pretrained(model_name)\n",
        "        self.d1 = torch.nn.Dropout(dropout_rate)\n",
        "        self.l1 = torch.nn.Linear(self.num_embed(model_name), 64)\n",
        "        self.bn1 = torch.nn.LayerNorm(64)\n",
        "        self.d2 = torch.nn.Dropout(dropout_rate)\n",
        "        self.l2 = torch.nn.Linear(64, num_labels)\n",
        "\n",
        "        if freeze:\n",
        "            for param in self.roberta.parameters():\n",
        "                param.requires_grad = False\n",
        "\n",
        "    def num_embed(self, model_name):\n",
        "        embedding_size = {\n",
        "            'roberta-base': 768,\n",
        "            'roberta-large': 1024,\n",
        "        }\n",
        "        return embedding_size[model_name]\n",
        "\n",
        "    def forward(self, input_ids, attention_mask, token_type_ids, labels=None):\n",
        "\n",
        "        out = self.roberta(input_ids=input_ids, \n",
        "                           attention_mask=attention_mask, \n",
        "                           token_type_ids=None)\n",
        "        x = out.pooler_output\n",
        "        x = self.d1(x)\n",
        "        x = self.l1(x)\n",
        "        x = self.bn1(x)\n",
        "        x = torch.nn.Tanh()(x)\n",
        "        x = self.d2(x)\n",
        "        x = self.l2(x)\n",
        "        \n",
        "        loss = None\n",
        "        if labels is not None:\n",
        "            # x = np.argmax(x, axis=1)\n",
        "            loss = self.loss_fct(x, labels)\n",
        "        \n",
        "        return loss, x\n",
        "\n",
        "\n",
        "class myRoberta_mnliClassifier(torch.nn.Module):\n",
        "\n",
        "    def __init__(self, pretrained_model, num_labels=2, freeze=False):\n",
        "        super(myRoberta_mnliClassifier, self).__init__()\n",
        "        \n",
        "        if num_labels == 1:\n",
        "            self.loss_fct = torch.nn.BCEWithLogitsLoss()\n",
        "        else:\n",
        "            self.loss_fct = torch.nn.NLLLoss(torch.tensor([0.55,0.45],dtype=torch.float).to(DEVICE))\n",
        "        self.roberta = pretrained_model\n",
        "        self.softmax = torch.nn.Softmax(dim=1)\n",
        "\n",
        "        if freeze:\n",
        "            for param in self.roberta.parameters():\n",
        "                param.requires_grad = False\n",
        "\n",
        "    def forward(self, input_ids, attention_mask, token_type_ids, labels=None):\n",
        "\n",
        "        out = self.roberta(input_ids=input_ids, \n",
        "                           attention_mask=attention_mask, \n",
        "                           token_type_ids=None,\n",
        "                           labels=labels)\n",
        "        \n",
        "        x = out[0] if labels is None else out[1]\n",
        "        x = self.softmax(x)\n",
        "        x = torch.stack((1-x[:,2],x[:,2]),dim=1)\n",
        "        x = torch.log(x)\n",
        "        \n",
        "        loss = None\n",
        "        if labels is not None:\n",
        "            # x = np.argmax(x, axis=1)\n",
        "            loss = self.loss_fct(x, labels)\n",
        "        \n",
        "        return loss, x"
      ],
      "execution_count": null,
      "outputs": []
    },
    {
      "cell_type": "markdown",
      "metadata": {
        "id": "QWb1PKeZztGS"
      },
      "source": [
        "## Runtime"
      ]
    },
    {
      "cell_type": "markdown",
      "metadata": {
        "id": "c9Sn_8byoIR2"
      },
      "source": [
        "Training and evaluation functions."
      ]
    },
    {
      "cell_type": "code",
      "metadata": {
        "id": "V3xQdSF8zl1q"
      },
      "source": [
        "def fine_tune(args, model, tokenizer):\n",
        "\n",
        "    processor = PIQAProcessor(tokenizer, args)\n",
        "    dataset_tr, dataset_val = processor.load_features(size=args.pretrain_size)\n",
        "\n",
        "    print('\\n Loading training dataset')\n",
        "    sampler_tr = RandomSampler(dataset_tr)\n",
        "    dataloader_tr = DataLoader(dataset_tr, sampler=sampler_tr, batch_size=args.batch_size)\n",
        "\n",
        "    print('\\n Loading validation dataset')\n",
        "    sampler_val = SequentialSampler(dataset_val)\n",
        "    dataloader_val = DataLoader(dataset_val, sampler=sampler_val, batch_size=args.batch_size)\n",
        "\n",
        "    model, optimizer, scheduler = load_optimizer(args, model, len(dataloader_tr), args.learning_rate_tune)\n",
        "\n",
        "    tr_loss = 0.00\n",
        "    num_steps = 0\n",
        "\n",
        "    model.train()\n",
        "    train_iterator = trange(int(args.num_train_epochs), desc=\"Epoch\", disable=False, leave=True, position=1)\n",
        "\n",
        "    for _ in train_iterator:\n",
        "        disable = False\n",
        "        if len(dataloader_tr) > 1000:\n",
        "            disable = True\n",
        "        epoch_iterator = tqdm(dataloader_tr, desc=\"Iteration\", disable=disable, leave=True, position=1)\n",
        "        for step, batch in enumerate(epoch_iterator):\n",
        "\n",
        "            model.train()\n",
        "\n",
        "            batch = tuple(b.to(args.device) for b in batch)\n",
        "            inputs = {'input_ids': batch[0],\n",
        "                      'attention_mask': batch[1],\n",
        "                      'token_type_ids': batch[2] if args.model_type in ['bert', 'xlnet'] else None,\n",
        "                      'labels': batch[3]}\n",
        "\n",
        "            model.zero_grad()\n",
        "            outputs = model(**inputs)\n",
        "            loss = outputs[0]\n",
        "\n",
        "            loss.backward()\n",
        "            torch.nn.utils.clip_grad_norm_(model.parameters(), 1.0)\n",
        "\n",
        "            tr_loss += loss.item()\n",
        "\n",
        "            optimizer.step()\n",
        "            scheduler.step()\n",
        "            \n",
        "            num_steps += 1\n",
        "\n",
        "            if args.logging_steps_tune > 0 and num_steps % args.logging_steps_tune == 0:\n",
        "                results = evaluate(args, model, dataloader_val)\n",
        "                print(\"\\n val acc: {}, val loss: {}\"\n",
        "                      .format(str(results['val_acc']), str(results['val_loss'])))\n",
        "\n",
        "    loss = tr_loss / num_steps\n",
        "\n",
        "    return model\n",
        "\n",
        "\n",
        "def train(args, model, tokenizer):\n",
        "    train_epoch = 1\n",
        "    \n",
        "    processor = ConvEntailProcessor(tokenizer, args)\n",
        "    dataset_tr, lengths_tr = processor.load_features(split='train')\n",
        "    dataset_val, lengths_val = processor.load_features(split='val')\n",
        "\n",
        "    print('\\n Loading training dataset')\n",
        "    sampler_tr = RandomSampler(dataset_tr)\n",
        "    dataloader_tr = DataLoader(dataset_tr, sampler=sampler_tr, batch_size=args.batch_size)\n",
        "\n",
        "    print('\\n Loading validation dataset')\n",
        "    sampler_val = SequentialSampler(dataset_val)\n",
        "    dataloader_val = DataLoader(dataset_val, sampler=sampler_val, batch_size=args.batch_size)\n",
        "\n",
        "    num_steps = 0\n",
        "    best_steps = 0\n",
        "    tr_loss = 0.0\n",
        "    best_val_acc, best_val_loss = 0.0, 99999999999.0\n",
        "    best_model = None\n",
        "\n",
        "    _, optimizer, scheduler = load_optimizer(args, model, len(dataloader_tr), args.learning_rate)\n",
        "\n",
        "    model.train()\n",
        "    train_iterator = trange(int(train_epoch), desc=\"Epoch\", disable=False, leave=True, position=1)\n",
        "\n",
        "    for _ in train_iterator:\n",
        "      epoch_iterator = tqdm(dataloader_tr, desc=\"Iteration\", disable=False, leave=True, position=1)\n",
        "      for step, batch in enumerate(epoch_iterator):\n",
        "\n",
        "          batch = tuple(b.to(args.device) for b in batch)\n",
        "          inputs = {'input_ids': batch[0],\n",
        "                    'attention_mask': batch[1],\n",
        "                    'token_type_ids': batch[2] if args.model_type in ['bert', 'xlnet'] else None,\n",
        "                    'labels': batch[3]}\n",
        "          model.zero_grad()\n",
        "          outputs = model(**inputs)\n",
        "\n",
        "          \n",
        "          loss = outputs[0]\n",
        "\n",
        "          loss.backward()\n",
        "          torch.nn.utils.clip_grad_norm_(model.parameters(), 1.0)\n",
        "\n",
        "          tr_loss += loss.item()\n",
        "\n",
        "          optimizer.step()\n",
        "          scheduler.step()\n",
        "          \n",
        "          num_steps += 1\n",
        "\n",
        "          if args.logging_steps > 0 and num_steps % args.logging_steps == 0:\n",
        "              results, tn, fn = evaluate(args, model, dataloader_val, lengths_val)\n",
        "              \n",
        "              print(\"\\n how many 0 is predicted 0: {}, how many 1 is predicted 0: {}, val acc: {}, val loss: {}\"\n",
        "                    .format(str(tn), str(fn), str(results['val_acc']), str(results['val_loss'])))\n",
        "              if results[\"val_loss\"] < best_val_loss:\n",
        "                  best_val_acc, best_val_loss = results[\"val_acc\"], results[\"val_loss\"]\n",
        "                  best_steps = num_steps\n",
        "                  best_model = deepcopy(model)\n",
        "      loss = tr_loss / num_steps\n",
        "      print(loss)\n",
        "\n",
        "    results, tn, fn = evaluate(args, model, dataloader_tr, lengths_tr)\n",
        "    print(\"\\n how many 0 is predicted 0: {}, how many 1 is predicted 0: {}, train acc: {}, train loss: {}\"\n",
        "                      .format(str(tn), str(fn), str(results['val_acc']), str(results['val_loss'])))\n",
        "    print(\"\\n Best val acc: {}, Best val loss: {}\".format(best_val_acc, best_val_loss))\n",
        "\n",
        "    return best_model\n",
        "\n",
        "\n",
        "def evaluate(args, model, dataloader, lengths=None):\n",
        "\n",
        "    val_loss = 0.0\n",
        "    num_steps = 0\n",
        "    preds, labels = None, None\n",
        "\n",
        "    results = {}\n",
        "\n",
        "    for batch in tqdm(dataloader, desc=\"Validation\", disable=True, leave=True, position=1):\n",
        "        model.eval()\n",
        "        batch = tuple(t.to(args.device) for t in batch)\n",
        "\n",
        "        with torch.no_grad():\n",
        "            inputs = {'input_ids': batch[0],\n",
        "                      'attention_mask': batch[1],\n",
        "                      'token_type_ids': batch[2] if args.model_type in ['bert', 'xlnet'] else None,\n",
        "                      'labels': batch[3]}\n",
        "            \n",
        "            outputs = model(**inputs)\n",
        "            logits = outputs[1]\n",
        "\n",
        "            loss = outputs[0]\n",
        " \n",
        "            val_loss += loss.mean().item()\n",
        "\n",
        "        num_steps += 1\n",
        "\n",
        "        if preds is None:\n",
        "            preds = logits.detach().cpu().numpy()\n",
        "            labels = inputs['labels'].detach().cpu().numpy()\n",
        "        else:\n",
        "            preds = np.append(preds, logits.detach().cpu().numpy(), axis=0)\n",
        "            labels = np.append(labels, inputs['labels'].detach().cpu().numpy(), axis=0)\n",
        "\n",
        "    loss = val_loss / num_steps\n",
        "    preds = np.argmax(preds, axis=1)\n",
        "    acc = accuracy_score(preds, labels)\n",
        "    result = {\"val_acc\": acc, \"val_loss\": loss}\n",
        "    results.update(result)\n",
        "\n",
        "    tn, fp, fn, tp = confusion_matrix(labels, preds, normalize='true').ravel()\n",
        "    # classification_report(labels, preds)\n",
        "\n",
        "    return results, tn, fn\n",
        "    # how many 0 is truely predicted 0:tn\n",
        "    # how many 1 is falsely predicted 0:fn\n",
        "\n",
        "\n",
        "def test(args, tokenizer, model):\n",
        "\n",
        "    processor = ConvEntailProcessor(tokenizer, args)\n",
        "    dataset_val, lengths_val = processor.load_features(split='val')\n",
        "    sampler_val = SequentialSampler(dataset_val)\n",
        "    dataloader_val = DataLoader(dataset_val, sampler=sampler_val, batch_size=args.batch_size)\n",
        "    results, tn, fn = evaluate(args, model, dataloader_val, lengths_val)\n",
        "    \n",
        "    print(\"\\n how many 0 is predicted 0: {}, how many 1 is predicted 0: {}, val acc: {}, val loss: {}\"\n",
        "                      .format(str(tn), str(fn), str(results['val_acc']), str(results['val_loss'])))\n",
        "    \n",
        "\n",
        "def test_on_test_dataset(args, tokenizer, model):\n",
        "\n",
        "    processor = ConvEntailProcessor(tokenizer, args)\n",
        "    dataset_test, lengths_test = processor.load_features(split='test')\n",
        "    sampler_test = SequentialSampler(dataset_test)\n",
        "    dataloader_test = DataLoader(dataset_test, sampler=sampler_test, batch_size=args.batch_size)\n",
        "    \n",
        "    val_loss = 0.0\n",
        "    num_steps = 0\n",
        "    preds, labels = None, None\n",
        "\n",
        "    results = {}\n",
        "\n",
        "    for batch in tqdm(dataloader_test, desc=\"Validation\", disable=True, leave=True, position=1):\n",
        "        model.eval()\n",
        "        batch = tuple(t.to(args.device) for t in batch)\n",
        "\n",
        "        with torch.no_grad():\n",
        "            inputs = {'input_ids': batch[0],\n",
        "                      'attention_mask': batch[1],\n",
        "                      'token_type_ids': batch[2] if args.model_type in ['bert', 'xlnet'] else None,\n",
        "                      'labels': None}\n",
        "            \n",
        "            outputs = model(**inputs)\n",
        "            logits = outputs[1]\n",
        "\n",
        "        num_steps += 1\n",
        "\n",
        "        if preds is None:\n",
        "            preds = logits.detach().cpu().numpy()\n",
        "        else:\n",
        "            preds = np.append(preds, logits.detach().cpu().numpy(), axis=0)\n",
        "\n",
        "\n",
        "    preds = np.argmax(preds, axis=1)\n",
        "    out = preds.tolist()\n",
        "    out_file = open(\"/content/temp_preds.json\", 'w')\n",
        "    json.dump(out, out_file)\n",
        "    out_file.close()\n",
        "    \n",
        "    print(\"Test over. File should have been written.\")"
      ],
      "execution_count": null,
      "outputs": []
    },
    {
      "cell_type": "code",
      "metadata": {
        "id": "Nyv6xGVDhfEZ"
      },
      "source": [
        "def main(args):\n",
        "    print('Using device', args.device)\n",
        "    print('Using model', args.model_type)\n",
        "    set_seed(args.seed)\n",
        "\n",
        "    num_labels = 2\n",
        "\n",
        "    config = AutoConfig.from_pretrained(args.model_name)\n",
        "    tokenizer = AutoTokenizer.from_pretrained(args.model_name)\n",
        "    \n",
        "    pretrained_model = AutoModelForSequenceClassification.from_pretrained(args.model_name)\n",
        "    # model = MyBertClassifier(model_name=args.config_name, num_labels=1)\n",
        "    # model = MyRobertaClassifier()\n",
        "    model = myRoberta_mnliClassifier(pretrained_model)\n",
        "\n",
        "    model.to(args.device)\n",
        "\n",
        "    print('\\nTuning...')\n",
        "    #model = fine_tune(args, model, tokenizer)\n",
        "    # model = freeze(model, args.model_name)\n",
        "\n",
        "    print('\\nTraining...')\n",
        "    best_model = train(args, model, tokenizer)\n",
        "\n",
        "    print('\\nTesting...')\n",
        "    test_on_test_dataset(args, tokenizer, best_model)\n",
        "\n",
        "    return best_model"
      ],
      "execution_count": null,
      "outputs": []
    },
    {
      "cell_type": "markdown",
      "metadata": {
        "id": "qGOc8j4Hz7OC"
      },
      "source": [
        "The default model is based on `bert`, and\n",
        "```\n",
        "parser.add_argument(\"--model_name\", type=str, default='bert-base-uncased',\n",
        "                    help=\"Path to pre-trained model or shortcut name. See https://huggingface.co/models\")\n",
        "```\n",
        "\n",
        "This would leads to\n",
        "\n",
        "```\n",
        "Some weights of the model checkpoint at bert-base-uncased were not used when initializing BertForMultipleChoice: ['cls.predictions.bias', 'cls.predictions.transform.dense.weight', 'cls.predictions.transform.dense.bias', 'cls.predictions.decoder.weight', 'cls.seq_relationship.weight', 'cls.seq_relationship.bias', 'cls.predictions.transform.LayerNorm.weight', 'cls.predictions.transform.LayerNorm.bias']\n",
        "- This IS expected if you are initializing BertForMultipleChoice from the checkpoint of a model trained on another task or with another architecture (e.g. initializing a BertForSequenceClassification model from a BertForPretraining model).\n",
        "- This IS NOT expected if you are initializing BertForMultipleChoice from the checkpoint of a model that you expect to be exactly identical (initializing a BertForSequenceClassification model from a BertForSequenceClassification model).\n",
        "Some weights of BertForMultipleChoice were not initialized from the model checkpoint at bert-base-uncased and are newly initialized: ['classifier.weight', 'classifier.bias']\n",
        "You should probably TRAIN this model on a down-stream task to be able to use it for predictions and inference.\n",
        "Using custom data configuration default\n",
        "```\n",
        "\n",
        "Should check https://huggingface.co/models for other models."
      ]
    },
    {
      "cell_type": "markdown",
      "metadata": {
        "id": "VfotIM0w1oX-"
      },
      "source": [
        "Setup parameters."
      ]
    },
    {
      "cell_type": "code",
      "metadata": {
        "id": "W_F0_crozIjr"
      },
      "source": [
        "def run(model_type='bert',\n",
        "        model_name='bert-base-uncased',\n",
        "        task_name=None,\n",
        "        batch_size=64,\n",
        "        lr=1e-5,\n",
        "        lr_tune=1e-5,\n",
        "        epochs=1,\n",
        "        pretrain_size=1000,\n",
        "        logging_steps=50,\n",
        "        logging_steps_tune=200):\n",
        "  \n",
        "    parser = argparse.ArgumentParser(description=\"Common sense question answering\")\n",
        "    parser.add_argument(\"--model_type\", type=str, default=model_type,\n",
        "                        help=\"Model: <str> [ bert | xlnet | roberta | gpt2 ]\")\n",
        "    parser.add_argument(\"--task_name\", default=task_name, type=str, required=False,\n",
        "                        help=\"The name of the task to train: <str> [ commonqa ]\")\n",
        "    parser.add_argument(\"--model_name\", type=str,\n",
        "                        default=model_name,\n",
        "                        help=\"Path to pre-trained model or shortcut name.\"\n",
        "                              \"See https://huggingface.co/models\")\n",
        "    parser.add_argument(\"--config_name\", type=str,\n",
        "                        default=model_name,\n",
        "                        help=\"Pre-trained config name or path\")\n",
        "    parser.add_argument(\"--tokenizer_name\", default=model_name, type=str,\n",
        "                        help=\"Pre-trained tokenizer name or path if not the same as model_name\")\n",
        "\n",
        "    parser.add_argument(\"--max_seq_length\", default=100, type=int,\n",
        "                        help=\"The maximum total input sequence length after tokenization. \"\n",
        "                                \"Sequences longer than this will be truncated, sequences shorter will be padded.\")\n",
        "    parser.add_argument(\"--batch_size\", default=batch_size, type=int,\n",
        "                        help=\"Batch size for training.\")\n",
        "\n",
        "    parser.add_argument(\"--learning_rate\", default=lr, type=float,\n",
        "                        help=\"The initial learning rate for Adam.\")\n",
        "    parser.add_argument(\"--learning_rate_tune\", default=lr_tune, type=float,\n",
        "                        help=\"The initial learning rate for Adam.\")\n",
        "    parser.add_argument(\"--weight_decay\", default=0.0, type=float,\n",
        "                        help=\"Weight decay if we apply some.\")\n",
        "    parser.add_argument(\"--adam_epsilon\", default=1e-8, type=float,\n",
        "                        help=\"Epsilon for Adam optimizer.\")\n",
        "    parser.add_argument(\"--test_size\", default=0.2, type=float,\n",
        "                        help=\"The ratio of size of validation set\")\n",
        "    parser.add_argument(\"--pretrain_size\", default=pretrain_size, type=float,\n",
        "                        help=\"The ratio of size of validation set\")\n",
        "        \n",
        "    parser.add_argument(\"--num_train_epochs\", default=epochs, type=int,\n",
        "                        help=\"Total number of training epochs to perform.\")\n",
        "    parser.add_argument(\"--warmup_steps\", default=epochs//6+2, type=int,\n",
        "                        help=\"Linear warmup over warmup_steps.\")\n",
        "    parser.add_argument('--logging_steps', type=int, default=logging_steps,\n",
        "                        help=\"Log every n updates steps.\")\n",
        "    parser.add_argument('--logging_steps_tune', type=int, default=logging_steps_tune,\n",
        "                        help=\"Log every n updates steps.\")\n",
        "\n",
        "    parser.add_argument('--fp16', type=bool, default=True,\n",
        "                        help=\"Whether to use 16-bit (mixed) precision (through NVIDIA apex) instead of 32-bit\")\n",
        "    parser.add_argument('--opt_level', type=str, default='O1',\n",
        "                        help=\"For fp16: Apex AMP optimization level selected in ['O0', 'O1', 'O2', and 'O3'].\"\n",
        "                              \"See details at https://nvidia.github.io/apex/amp.html\")\n",
        "\n",
        "    parser.add_argument(\"--seed\", type=int, default=0, help=\"Random seed: <int>\")\n",
        "    parser.add_argument(\"--device\", default=DEVICE)\n",
        "    args, unknown = parser.parse_known_args()\n",
        "    best_model = main(args)\n",
        "    return best_model"
      ],
      "execution_count": null,
      "outputs": []
    },
    {
      "cell_type": "markdown",
      "metadata": {
        "id": "NmE312LRWvvR"
      },
      "source": [
        "## Finetuning"
      ]
    },
    {
      "cell_type": "markdown",
      "metadata": {
        "id": "2GJvvByG0O-j"
      },
      "source": [
        "### RoBerta\n",
        "\n",
        "Check this for `</s>` rules: https://github.com/pytorch/fairseq/issues/1654\n",
        "\n",
        "I may have got it wrong. Check `Data Preprocessing` sections."
      ]
    },
    {
      "cell_type": "code",
      "metadata": {
        "id": "Om27bZcK1pUx"
      },
      "source": [
        "import torch\n",
        "torch.cuda.empty_cache()"
      ],
      "execution_count": null,
      "outputs": []
    },
    {
      "cell_type": "markdown",
      "metadata": {
        "id": "9rprO1FhzIJj"
      },
      "source": [
        "Try `roberta-large-mnli`, but this one has a `neutral` label (`num_labels = 3`).\n",
        "\n",
        "There is an [online entailment](https://huggingface.co/roberta-large-mnli?text=John+grabbed+the+ladder+and+put+it+in+his+truck.+%3C%2Fs%3E%3C%2Fs%3E+John+put+a+drill+and+rope+in+the+bucket+and+also+put+that+in+this+truck) model to play with."
      ]
    },
    {
      "cell_type": "code",
      "metadata": {
        "id": "A29iZ1dduQHK",
        "colab": {
          "base_uri": "https://localhost:8080/",
          "height": 1000,
          "referenced_widgets": [
            "9bd5ec1e7ec24d4e83965737b1e63dbb",
            "b7f5bba99aa94d42ae0353796ca4f90f",
            "4e4f041a17d6452182172767093fcbf1",
            "bebafabae1ad49c7a7f64bd901b686d7",
            "0300cb16437643f0b71a1698b0ed6565",
            "60782abb32114ecbabf93c570d226448",
            "1a9c6decb7924bb4ba51eb910c8fdb86",
            "6fbec1b162d247c6bf2271aecc9e3f9f",
            "8fa9f434fe2b462f8ee29e8f96ad5c14",
            "e0867791eed14fc091ff5c5cbd89018f",
            "354c3568ae664feb8dc2bbb982b7cf4b",
            "23a2ca00c47942508f5c6e0f0b1d0ace",
            "1d1a1bedf25c41e0851add704cf1512c",
            "8639e4a886fb434fb4f8bbf9b36bcde3",
            "42801d49ea354eb2902b62c7d06d0f28",
            "633a80807d8847439fc28c1b13f8ccd4",
            "9ecccab519704d88a1820179a2214818",
            "c7c3d3eb01de4f50a2eb99c2eba04ed0",
            "36924e8841aa426dac9464b830ab0050",
            "436121bac9f346c29e94c857b1f39ab9",
            "c2276d560e0e4e00b09d621c1b3085c4",
            "9880d711bc1340669f179c93a67ae199",
            "89c58925ca2443259a420d4ad63e4c4e",
            "74ee232eeef34902975244ad4aad7848",
            "7755bdb545f34f03995a91e93eda334a",
            "cb170ef3d82546d5be826ed33dcca95a",
            "f2d1479e64ce45a499c02b10fd150192",
            "282eb00b880f43a6835f322c348c8331",
            "02a7412f16a44862bcca2b7926307ba9",
            "ce75670559ac4c0881512444b496c837",
            "f1d82d7c68104f8c8958ce67304c0a4e",
            "f2e6f67d766f4656ac18df2ce8289de9",
            "11764806e3454d229eb48cf167502c9b",
            "d5515e2efb21404e96d554e0c822e606",
            "b2b8442414b34dfd802ac7ecbe19c86f",
            "3110ecdfa5854628b00054c46066a38b",
            "e249a712572f4e348ce4765c9b99d1d7",
            "6c90457036f343a9bd038ab323d7b190",
            "cea834aaad8d4d73b0bb831cd2198546",
            "add87e878fea4d33a291615ab330d00d"
          ]
        },
        "outputId": "ed16e2cc-91fc-4652-e490-9e0fb3ccfa46"
      },
      "source": [
        "# Try roberta-large-mnli\n",
        "model_type = 'roberta'\n",
        "model_name = 'roberta-large-mnli'\n",
        "task_name = 'mnli'\n",
        "batch_size = 8\n",
        "epochs = 1\n",
        "lr_tune = 1e-6\n",
        "lr = 5e-6\n",
        "# pretrain_size = 73546\n",
        "pretrain_size = 50\n",
        "logging_steps = 25\n",
        "logging_steps_tune = 50\n",
        "\n",
        "best_model = run(model_type, model_name, task_name, batch_size, lr, lr_tune, epochs, pretrain_size, logging_steps, logging_steps_tune)"
      ],
      "execution_count": null,
      "outputs": [
        {
          "output_type": "stream",
          "text": [
            "Using device cuda\n",
            "Using model roberta\n"
          ],
          "name": "stdout"
        },
        {
          "output_type": "display_data",
          "data": {
            "application/vnd.jupyter.widget-view+json": {
              "model_id": "9bd5ec1e7ec24d4e83965737b1e63dbb",
              "version_minor": 0,
              "version_major": 2
            },
            "text/plain": [
              "HBox(children=(FloatProgress(value=0.0, description='Downloading', max=688.0, style=ProgressStyle(description_…"
            ]
          },
          "metadata": {
            "tags": []
          }
        },
        {
          "output_type": "stream",
          "text": [
            "\n"
          ],
          "name": "stdout"
        },
        {
          "output_type": "display_data",
          "data": {
            "application/vnd.jupyter.widget-view+json": {
              "model_id": "8fa9f434fe2b462f8ee29e8f96ad5c14",
              "version_minor": 0,
              "version_major": 2
            },
            "text/plain": [
              "HBox(children=(FloatProgress(value=0.0, description='Downloading', max=898823.0, style=ProgressStyle(descripti…"
            ]
          },
          "metadata": {
            "tags": []
          }
        },
        {
          "output_type": "stream",
          "text": [
            "\n"
          ],
          "name": "stdout"
        },
        {
          "output_type": "display_data",
          "data": {
            "application/vnd.jupyter.widget-view+json": {
              "model_id": "9ecccab519704d88a1820179a2214818",
              "version_minor": 0,
              "version_major": 2
            },
            "text/plain": [
              "HBox(children=(FloatProgress(value=0.0, description='Downloading', max=456318.0, style=ProgressStyle(descripti…"
            ]
          },
          "metadata": {
            "tags": []
          }
        },
        {
          "output_type": "stream",
          "text": [
            "\n"
          ],
          "name": "stdout"
        },
        {
          "output_type": "display_data",
          "data": {
            "application/vnd.jupyter.widget-view+json": {
              "model_id": "7755bdb545f34f03995a91e93eda334a",
              "version_minor": 0,
              "version_major": 2
            },
            "text/plain": [
              "HBox(children=(FloatProgress(value=0.0, description='Downloading', max=1355863.0, style=ProgressStyle(descript…"
            ]
          },
          "metadata": {
            "tags": []
          }
        },
        {
          "output_type": "stream",
          "text": [
            "\n"
          ],
          "name": "stdout"
        },
        {
          "output_type": "display_data",
          "data": {
            "application/vnd.jupyter.widget-view+json": {
              "model_id": "11764806e3454d229eb48cf167502c9b",
              "version_minor": 0,
              "version_major": 2
            },
            "text/plain": [
              "HBox(children=(FloatProgress(value=0.0, description='Downloading', max=1425744429.0, style=ProgressStyle(descr…"
            ]
          },
          "metadata": {
            "tags": []
          }
        },
        {
          "output_type": "stream",
          "text": [
            "\n"
          ],
          "name": "stdout"
        },
        {
          "output_type": "stream",
          "text": [
            "Some weights of the model checkpoint at roberta-large-mnli were not used when initializing RobertaForSequenceClassification: ['roberta.pooler.dense.weight', 'roberta.pooler.dense.bias']\n",
            "- This IS expected if you are initializing RobertaForSequenceClassification from the checkpoint of a model trained on another task or with another architecture (e.g. initializing a BertForSequenceClassification model from a BertForPreTraining model).\n",
            "- This IS NOT expected if you are initializing RobertaForSequenceClassification from the checkpoint of a model that you expect to be exactly identical (initializing a BertForSequenceClassification model from a BertForSequenceClassification model).\n"
          ],
          "name": "stderr"
        },
        {
          "output_type": "stream",
          "text": [
            "\n",
            "Tuning...\n",
            "\n",
            "Training...\n",
            "\n",
            " Loading training dataset\n",
            "\n",
            " Loading validation dataset\n"
          ],
          "name": "stdout"
        },
        {
          "output_type": "stream",
          "text": [
            "\n",
            "Epoch:   0%|          | 0/1 [00:00<?, ?it/s]\u001b[A\n",
            "Iteration:   0%|          | 0/52 [00:00<?, ?it/s]\u001b[A\n",
            "Iteration:   2%|▏         | 1/52 [00:01<01:01,  1.21s/it]\u001b[A\n",
            "Iteration:   4%|▍         | 2/52 [00:02<00:57,  1.15s/it]\u001b[A\n",
            "Iteration:   6%|▌         | 3/52 [00:03<00:54,  1.12s/it]\u001b[A\n",
            "Iteration:   8%|▊         | 4/52 [00:04<00:52,  1.10s/it]\u001b[A\n",
            "Iteration:  10%|▉         | 5/52 [00:05<00:50,  1.08s/it]\u001b[A\n",
            "Iteration:  12%|█▏        | 6/52 [00:06<00:49,  1.08s/it]\u001b[A\n",
            "Iteration:  13%|█▎        | 7/52 [00:07<00:48,  1.07s/it]\u001b[A\n",
            "Iteration:  15%|█▌        | 8/52 [00:08<00:46,  1.06s/it]\u001b[A\n",
            "Iteration:  17%|█▋        | 9/52 [00:09<00:45,  1.06s/it]\u001b[A\n",
            "Iteration:  19%|█▉        | 10/52 [00:10<00:44,  1.06s/it]\u001b[A\n",
            "Iteration:  21%|██        | 11/52 [00:11<00:43,  1.07s/it]\u001b[A\n",
            "Iteration:  23%|██▎       | 12/52 [00:12<00:42,  1.07s/it]\u001b[A\n",
            "Iteration:  25%|██▌       | 13/52 [00:13<00:42,  1.08s/it]\u001b[A\n",
            "Iteration:  27%|██▋       | 14/52 [00:15<00:41,  1.08s/it]\u001b[A\n",
            "Iteration:  29%|██▉       | 15/52 [00:16<00:40,  1.08s/it]\u001b[A\n",
            "Iteration:  31%|███       | 16/52 [00:17<00:39,  1.08s/it]\u001b[A\n",
            "Iteration:  33%|███▎      | 17/52 [00:18<00:38,  1.09s/it]\u001b[A\n",
            "Iteration:  35%|███▍      | 18/52 [00:19<00:37,  1.09s/it]\u001b[A\n",
            "Iteration:  37%|███▋      | 19/52 [00:20<00:36,  1.09s/it]\u001b[A\n",
            "Iteration:  38%|███▊      | 20/52 [00:21<00:34,  1.09s/it]\u001b[A\n",
            "Iteration:  40%|████      | 21/52 [00:22<00:33,  1.09s/it]\u001b[A\n",
            "Iteration:  42%|████▏     | 22/52 [00:23<00:32,  1.09s/it]\u001b[A\n",
            "Iteration:  44%|████▍     | 23/52 [00:24<00:31,  1.09s/it]\u001b[A\n",
            "Iteration:  46%|████▌     | 24/52 [00:25<00:30,  1.09s/it]\u001b[A\n",
            "Iteration:  48%|████▊     | 25/52 [00:31<01:08,  2.53s/it]\u001b[A"
          ],
          "name": "stderr"
        },
        {
          "output_type": "stream",
          "text": [
            "\n",
            " how many 0 is predicted 0: 0.5106382978723404, how many 1 is predicted 0: 0.2631578947368421, val acc: 0.6346153846153846, val loss: 0.6519540892197535\n"
          ],
          "name": "stdout"
        },
        {
          "output_type": "stream",
          "text": [
            "\n",
            "Iteration:  50%|█████     | 26/52 [00:32<00:54,  2.11s/it]\u001b[A\n",
            "Iteration:  52%|█████▏    | 27/52 [00:34<00:45,  1.81s/it]\u001b[A\n",
            "Iteration:  54%|█████▍    | 28/52 [00:35<00:38,  1.61s/it]\u001b[A\n",
            "Iteration:  56%|█████▌    | 29/52 [00:36<00:33,  1.46s/it]\u001b[A\n",
            "Iteration:  58%|█████▊    | 30/52 [00:37<00:29,  1.36s/it]\u001b[A\n",
            "Iteration:  60%|█████▉    | 31/52 [00:38<00:26,  1.28s/it]\u001b[A\n",
            "Iteration:  62%|██████▏   | 32/52 [00:39<00:24,  1.23s/it]\u001b[A\n",
            "Iteration:  63%|██████▎   | 33/52 [00:40<00:22,  1.21s/it]\u001b[A\n",
            "Iteration:  65%|██████▌   | 34/52 [00:41<00:21,  1.19s/it]\u001b[A\n",
            "Iteration:  67%|██████▋   | 35/52 [00:43<00:20,  1.18s/it]\u001b[A\n",
            "Iteration:  69%|██████▉   | 36/52 [00:44<00:18,  1.17s/it]\u001b[A\n",
            "Iteration:  71%|███████   | 37/52 [00:45<00:17,  1.16s/it]\u001b[A\n",
            "Iteration:  73%|███████▎  | 38/52 [00:46<00:16,  1.16s/it]\u001b[A\n",
            "Iteration:  75%|███████▌  | 39/52 [00:47<00:15,  1.16s/it]\u001b[A\n",
            "Iteration:  77%|███████▋  | 40/52 [00:48<00:14,  1.17s/it]\u001b[A\n",
            "Iteration:  79%|███████▉  | 41/52 [00:50<00:12,  1.17s/it]\u001b[A\n",
            "Iteration:  81%|████████  | 42/52 [00:51<00:11,  1.17s/it]\u001b[A\n",
            "Iteration:  83%|████████▎ | 43/52 [00:52<00:10,  1.17s/it]\u001b[A\n",
            "Iteration:  85%|████████▍ | 44/52 [00:53<00:09,  1.18s/it]\u001b[A\n",
            "Iteration:  87%|████████▋ | 45/52 [00:54<00:08,  1.17s/it]\u001b[A\n",
            "Iteration:  88%|████████▊ | 46/52 [00:55<00:07,  1.17s/it]\u001b[A\n",
            "Iteration:  90%|█████████ | 47/52 [00:57<00:05,  1.17s/it]\u001b[A\n",
            "Iteration:  92%|█████████▏| 48/52 [00:58<00:04,  1.17s/it]\u001b[A\n",
            "Iteration:  94%|█████████▍| 49/52 [00:59<00:03,  1.18s/it]\u001b[A\n",
            "Iteration:  96%|█████████▌| 50/52 [01:05<00:05,  2.72s/it]\u001b[A"
          ],
          "name": "stderr"
        },
        {
          "output_type": "stream",
          "text": [
            "\n",
            " how many 0 is predicted 0: 0.574468085106383, how many 1 is predicted 0: 0.2631578947368421, val acc: 0.6634615384615384, val loss: 0.6281949694340045\n"
          ],
          "name": "stdout"
        },
        {
          "output_type": "stream",
          "text": [
            "\n",
            "Iteration:  98%|█████████▊| 51/52 [01:06<00:02,  2.24s/it]\u001b[A\n",
            "Iteration: 100%|██████████| 52/52 [01:08<00:00,  1.31s/it]\n",
            "\n",
            "Epoch: 100%|██████████| 1/1 [01:08<00:00, 68.03s/it]\n"
          ],
          "name": "stderr"
        },
        {
          "output_type": "stream",
          "text": [
            "0.6233969749166415\n",
            "\n",
            " how many 0 is predicted 0: 0.7015706806282722, how many 1 is predicted 0: 0.13777777777777778, train acc: 0.7884615384615384, train loss: 0.4386906801508023\n",
            "\n",
            " Best val acc: 0.6634615384615384, Best val loss: 0.6281949694340045\n",
            "\n",
            "Testing...\n",
            "Test over. File should have been written.\n"
          ],
          "name": "stdout"
        }
      ]
    },
    {
      "cell_type": "markdown",
      "metadata": {
        "id": "PXZcs3VQRqu7"
      },
      "source": [
        "## Wrap Up\n",
        "Format the prediction into the json file we need."
      ]
    },
    {
      "cell_type": "code",
      "metadata": {
        "id": "sR-4tz5qR5Cr",
        "colab": {
          "base_uri": "https://localhost:8080/"
        },
        "outputId": "c28f0f42-97e8-4a99-c76e-afb18b7c0034"
      },
      "source": [
        "test_file = '/content/drive/Shareddrives/EECS595-Fall2020/Final_Project_Common/Conversational_Entailment/test_set_unlabeled.json'\n",
        "preds_file = '/content/temp_preds.json'\n",
        "test_data = codecs.open(test_file, 'r', encoding='utf-8').read()\n",
        "preds = codecs.open(preds_file, 'r', encoding='utf-8').read()\n",
        "data = json.loads(test_data)\n",
        "ids = [item[\"id\"] for item in data]\n",
        "preds = json.loads(preds)\n",
        "\n",
        "results = [{\"id\": ids[i], \"pred\": preds[i]} for i in range(len(ids))]\n",
        "out_file = open(\"/content/ConvEnt_team2_preds.json\", 'w')\n",
        "json.dump(results, out_file)\n",
        "out_file.close()\n",
        "\n",
        "print(\"Generated the submission file!\")"
      ],
      "execution_count": null,
      "outputs": [
        {
          "output_type": "stream",
          "text": [
            "Generated the submission file!\n"
          ],
          "name": "stdout"
        }
      ]
    },
    {
      "cell_type": "markdown",
      "metadata": {
        "id": "XCTR69kyKAu1"
      },
      "source": [
        "# References\n",
        "\n",
        "[1] Reimers, N., & Gurevych, I. (2019). Sentence-bert: Sentence embeddings using siamese bert-networks. arXiv preprint arXiv:1908.10084.\n",
        "\n",
        "[2] Zellers, R., Bisk, Y., Schwartz, R., & Choi, Y. (2018). Swag: A large-scale adversarial dataset for grounded commonsense inference. arXiv preprint arXiv:1808.05326."
      ]
    }
  ]
}